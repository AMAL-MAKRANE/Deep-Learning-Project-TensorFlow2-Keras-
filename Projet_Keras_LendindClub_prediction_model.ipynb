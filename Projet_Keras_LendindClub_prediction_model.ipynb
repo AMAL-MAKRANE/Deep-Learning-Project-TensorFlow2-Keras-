{
  "nbformat": 4,
  "nbformat_minor": 0,
  "metadata": {
    "colab": {
      "name": "Copy of 04-Solutions-Exercice-Projet-Keras.ipynb",
      "provenance": [],
      "collapsed_sections": []
    },
    "kernelspec": {
      "name": "python3",
      "display_name": "Python 3"
    }
  },
  "cells": [
    {
      "cell_type": "markdown",
      "metadata": {
        "id": "HaPMnBm6wYVn"
      },
      "source": [
        "# Projet API Keras"
      ]
    },
    {
      "cell_type": "markdown",
      "metadata": {
        "id": "bOMlCtpbwkLx"
      },
      "source": [
        "### Les données\n",
        "\n",
        "Nous utiliserons un sous-ensemble de l'ensemble de données du LendingClub obtenu auprès de Kaggle : https://www.kaggle.com/wordsforthewise/lending-club\n",
        "\n",
        "\n",
        "LendingClub est une société américaine de prêt entre pairs, dont le siège se trouve à San Francisco, en Californie[3]. Elle a été la première société de prêt entre pairs à enregistrer ses offres en tant que titres auprès de la Securities and Exchange Commission (SEC) et à proposer des prêts sur un marché secondaire. LendingClub est la plus grande plateforme de prêt entre pairs au monde.\n",
        "\n",
        "### Notre objectif\n",
        "\n",
        "Compte tenu des données historiques sur les prêts accordés avec des informations sur le défaut de paiement (charge-off) ou non de l'emprunteur, pouvons-nous construire un modèle qui puisse prédire si un emprunteur remboursera son prêt ou non ? Ainsi, à l'avenir, lorsque nous aurons un nouveau client potentiel, nous pourrons évaluer s'il est susceptible ou non de rembourser le prêt.\n",
        "\n",
        "La colonne \"loan_status\" contient notre étiquette ou label.\n",
        "\n",
        "### Aperçu des données"
      ]
    },
    {
      "cell_type": "markdown",
      "metadata": {
        "id": "5irOeT_dw7kC"
      },
      "source": [
        "----\n",
        "-----\n",
        "Il existe de nombreux ensembles de données de LendingClub sur Kaggle. Voici les informations sur cet ensemble de données particulier :\n",
        "\n",
        "<table border=\"1\" class=\"dataframe\">\n",
        "  <thead>\n",
        "    <tr style=\"text-align: right;\">\n",
        "      <th></th>\n",
        "      <th>LoanStatNew</th>\n",
        "      <th>Description</th>\n",
        "    </tr>\n",
        "  </thead>\n",
        "  <tbody>\n",
        "    <tr>\n",
        "      <th>0</th>\n",
        "      <td>loan_amnt</td>\n",
        "      <td>Le montant indiqué du prêt demandé par l'emprunteur. Si, à un moment donné, le service de crédit réduit le montant du prêt, cette valeur en tient compte</td>\n",
        "    </tr>\n",
        "    <tr>\n",
        "      <th>1</th>\n",
        "      <td>term</td>\n",
        "      <td>Le nombre de paiements sur le prêt. Les valeurs sont exprimées en mois et peuvent être de 36 ou 60</td>\n",
        "    </tr>\n",
        "    <tr>\n",
        "      <th>2</th>\n",
        "      <td>int_rate</td>\n",
        "      <td>Taux d'intérêt du prêt</td>\n",
        "    </tr>\n",
        "    <tr>\n",
        "      <th>3</th>\n",
        "      <td>installment</td>\n",
        "      <td>Le paiement mensuel dû par l'emprunteur si le prêt est d'origine</td>\n",
        "    </tr>\n",
        "    <tr>\n",
        "      <th>4</th>\n",
        "      <td>grade</td>\n",
        "      <td>Qualité du prêt attribuée par LC</td>\n",
        "    </tr>\n",
        "    <tr>\n",
        "      <th>5</th>\n",
        "      <td>sub_grade</td>\n",
        "      <td>sous-niveau de qualité attribuée par LC</td>\n",
        "    </tr>\n",
        "    <tr>\n",
        "      <th>6</th>\n",
        "      <td>emp_title</td>\n",
        "      <td>Le titre de poste fourni par l'emprunteur lors de la demande de prêt.</td>\n",
        "    </tr>\n",
        "    <tr>\n",
        "      <th>7</th>\n",
        "      <td>emp_length</td>\n",
        "      <td>Durée de l'emploi en années. Les valeurs possibles sont comprises entre 0 et 10, où 0 signifie moins d'un an et 10 signifie dix ans ou plus</td>\n",
        "    </tr>\n",
        "    <tr>\n",
        "      <th>8</th>\n",
        "      <td>home_ownership</td>\n",
        "      <td>Le statut de propriétaire du logement fourni par l'emprunteur lors de l'enregistrement ou obtenu à partir du rapport de crédit. Nos valeurs sont : RENT (locataire), OWN (propérétaire), MORTGAGE (hypothèque), OTHER (autre)</td>\n",
        "    </tr>\n",
        "    <tr>\n",
        "      <th>9</th>\n",
        "      <td>annual_inc</td>\n",
        "      <td>Le revenu annuel déclaré par l'emprunteur lors de l'enregistrement</td>\n",
        "    </tr>\n",
        "    <tr>\n",
        "      <th>10</th>\n",
        "      <td>verification_status</td>\n",
        "      <td>Indique si le revenu a été vérifié par la LC, non vérifié, ou si la source de revenu a été vérifiée</td>\n",
        "    </tr>\n",
        "    <tr>\n",
        "      <th>11</th>\n",
        "      <td>issue_d</td>\n",
        "      <td>Le mois au cours duquel le prêt a été financé</td>\n",
        "    </tr>\n",
        "    <tr>\n",
        "      <th>12</th>\n",
        "      <td>loan_status</td>\n",
        "      <td>État actuel du prêt</td>\n",
        "    </tr>\n",
        "    <tr>\n",
        "      <th>13</th>\n",
        "      <td>purpose</td>\n",
        "      <td>Une catégorie fournie par l'emprunteur pour la demande de prêt</td>\n",
        "    </tr>\n",
        "    <tr>\n",
        "      <th>14</th>\n",
        "      <td>title</td>\n",
        "      <td>Le titre de prêt fourni par l'emprunteur</td>\n",
        "    </tr>\n",
        "    <tr>\n",
        "      <th>15</th>\n",
        "      <td>zip_code</td>\n",
        "      <td>Les 3 premiers chiffres du code postal fourni par l'emprunteur dans la demande de prêt</td>\n",
        "    </tr>\n",
        "    <tr>\n",
        "      <th>16</th>\n",
        "      <td>addr_state</td>\n",
        "      <td>L'état fourni par l'emprunteur dans la demande de prêt</td>\n",
        "    </tr>\n",
        "    <tr>\n",
        "      <th>17</th>\n",
        "      <td>dti</td>\n",
        "      <td>Un ratio calculé en utilisant le total des paiements mensuels de l'emprunteur sur le total des dettes, à l'exclusion de l'hypothèque et du prêt LC demandé, divisé par le revenu mensuel autodéclaré de l'emprunteur</td>\n",
        "    </tr>\n",
        "    <tr>\n",
        "      <th>18</th>\n",
        "      <td>earliest_cr_line</td>\n",
        "      <td>Le mois d'ouverture de la première ligne de crédit déclarée par l'emprunteur</td>\n",
        "    </tr>\n",
        "    <tr>\n",
        "      <th>19</th>\n",
        "      <td>open_acc</td>\n",
        "      <td>Le nombre de lignes de crédit ouvertes dans le dossier de crédit de l'emprunteur</td>\n",
        "    </tr>\n",
        "    <tr>\n",
        "      <th>20</th>\n",
        "      <td>pub_rec</td>\n",
        "      <td>Nombre d'enregistrements publics dérogatoires</td>\n",
        "    </tr>\n",
        "    <tr>\n",
        "      <th>21</th>\n",
        "      <td>revol_bal</td>\n",
        "      <td>Solde total du crédit renouvelable</td>\n",
        "    </tr>\n",
        "    <tr>\n",
        "      <th>22</th>\n",
        "      <td>revol_util</td>\n",
        "      <td>Le taux d'utilisation de la ligne renouvelable, ou le montant du crédit utilisé par l'emprunteur par rapport à l'ensemble du crédit renouvelable disponible</td>\n",
        "    </tr>\n",
        "    <tr>\n",
        "      <th>23</th>\n",
        "      <td>total_acc</td>\n",
        "      <td>Le nombre total de lignes de crédit figurant actuellement dans le dossier de crédit de l'emprunteur</td>\n",
        "    </tr>\n",
        "    <tr>\n",
        "      <th>24</th>\n",
        "      <td>initial_list_status</td>\n",
        "      <td>L'état initial de l'inscription du prêt. Les valeurs possibles sont - W, F</td>\n",
        "    </tr>\n",
        "    <tr>\n",
        "      <th>25</th>\n",
        "      <td>application_type</td>\n",
        "      <td>Indique si le prêt est une demande individuelle ou une demande conjointe avec deux co-emprunteurs</td>\n",
        "    </tr>\n",
        "    <tr>\n",
        "      <th>26</th>\n",
        "      <td>mort_acc</td>\n",
        "      <td>Nombre de comptes hypothécaires</td>\n",
        "    </tr>\n",
        "    <tr>\n",
        "      <th>27</th>\n",
        "      <td>pub_rec_bankruptcies</td>\n",
        "      <td>Nombre de faillites enregistrées dans les registres publics</td>\n",
        "    </tr>\n",
        "  </tbody>\n",
        "</table>\n",
        "\n",
        "---\n",
        "----"
      ]
    },
    {
      "cell_type": "markdown",
      "metadata": {
        "id": "xcxGBnX9zFUb"
      },
      "source": [
        "### Code pour démarrer\n",
        "\n",
        "#### Note : Nous fournissons également des informations sur les features des données sous forme de fichier .csv pour faciliter la recherche dans le notebook :"
      ]
    },
    {
      "cell_type": "code",
      "metadata": {
        "id": "iQ10jV-XzKR7"
      },
      "source": [
        "import pandas as pd"
      ],
      "execution_count": 1,
      "outputs": []
    },
    {
      "cell_type": "code",
      "metadata": {
        "id": "aD4oHszbzN2-"
      },
      "source": [
        "url = 'https://raw.githubusercontent.com/moncoachdata/DATA_DEEP_LEARNING/master/lending_club_info.csv'\n",
        "data_info = pd.read_csv(url,index_col='LoanStatNew')\n",
        "\n",
        "# data_info = pd.read_csv('lending_club_info.csv',index_col='LoanStatNew')"
      ],
      "execution_count": 2,
      "outputs": []
    },
    {
      "cell_type": "code",
      "metadata": {
        "id": "PcNzc79gzTPH",
        "colab": {
          "base_uri": "https://localhost:8080/"
        },
        "outputId": "3231351e-65aa-499e-d301-ba90f662ac09"
      },
      "source": [
        "print(data_info.loc['revol_util']['Description'])"
      ],
      "execution_count": 3,
      "outputs": [
        {
          "output_type": "stream",
          "name": "stdout",
          "text": [
            "Revolving line utilization rate, or the amount of credit the borrower is using relative to all available revolving credit.\n"
          ]
        }
      ]
    },
    {
      "cell_type": "code",
      "metadata": {
        "id": "65qftSdezVYb"
      },
      "source": [
        "def feat_info(col_name):\n",
        "    print(data_info.loc[col_name]['Description'])"
      ],
      "execution_count": 4,
      "outputs": []
    },
    {
      "cell_type": "code",
      "metadata": {
        "id": "IlptwsSEzYNH",
        "colab": {
          "base_uri": "https://localhost:8080/"
        },
        "outputId": "2bbeee10-ff3d-4db4-c014-77ab5d583f64"
      },
      "source": [
        "feat_info('mort_acc')"
      ],
      "execution_count": 5,
      "outputs": [
        {
          "output_type": "stream",
          "name": "stdout",
          "text": [
            "Number of mortgage accounts.\n"
          ]
        }
      ]
    },
    {
      "cell_type": "markdown",
      "metadata": {
        "id": "fYRY38XuzcuC"
      },
      "source": [
        "### Chargement des données et autres importations"
      ]
    },
    {
      "cell_type": "code",
      "metadata": {
        "id": "i_Lzlgc3zZpx"
      },
      "source": [
        "import pandas as pd\n",
        "\n",
        "import numpy as np\n",
        "import matplotlib.pyplot as plt\n",
        "import seaborn as sns"
      ],
      "execution_count": 6,
      "outputs": []
    },
    {
      "cell_type": "code",
      "metadata": {
        "id": "4NwF9kXGzf3z"
      },
      "source": [
        "# lecture du fichier de 100,4 MO depuis 6 fichiers CSV depuis Github pour éviter le temps d'importation \n",
        "# sur Google Colab\n",
        "list_url = ['https://raw.githubusercontent.com/moncoachdata/DATA_DEEP_LEARNING/master/lending_club_loan_two-1.csv',\n",
        "            'https://raw.githubusercontent.com/moncoachdata/DATA_DEEP_LEARNING/master/lending_club_loan_two-2.csv',\n",
        "            'https://raw.githubusercontent.com/moncoachdata/DATA_DEEP_LEARNING/master/lending_club_loan_two-3.csv',\n",
        "            'https://raw.githubusercontent.com/moncoachdata/DATA_DEEP_LEARNING/master/lending_club_loan_two-4.csv',\n",
        "            'https://raw.githubusercontent.com/moncoachdata/DATA_DEEP_LEARNING/master/lending_club_loan_two-5.csv',\n",
        "            'https://raw.githubusercontent.com/moncoachdata/DATA_DEEP_LEARNING/master/lending_club_loan_two-6.csv']\n",
        "\n",
        "df = pd.concat([pd.read_csv(f) for f in list_url],ignore_index=True)\n",
        "\n",
        "# Sinon lecture classique en important sur Google Colab ou depuis le chemin exact\n",
        "# df = pd.read_csv('lending_club_loan_two.csv')"
      ],
      "execution_count": 7,
      "outputs": []
    },
    {
      "cell_type": "code",
      "metadata": {
        "id": "CZfaORcvzkmn",
        "colab": {
          "base_uri": "https://localhost:8080/"
        },
        "outputId": "b9e8b056-5e3b-448b-ce9e-2adfd5165fba"
      },
      "source": [
        "df.info()"
      ],
      "execution_count": 8,
      "outputs": [
        {
          "output_type": "stream",
          "name": "stdout",
          "text": [
            "<class 'pandas.core.frame.DataFrame'>\n",
            "RangeIndex: 396030 entries, 0 to 396029\n",
            "Data columns (total 27 columns):\n",
            " #   Column                Non-Null Count   Dtype  \n",
            "---  ------                --------------   -----  \n",
            " 0   loan_amnt             396030 non-null  float64\n",
            " 1   term                  396030 non-null  object \n",
            " 2   int_rate              396030 non-null  float64\n",
            " 3   installment           396030 non-null  float64\n",
            " 4   grade                 396030 non-null  object \n",
            " 5   sub_grade             396030 non-null  object \n",
            " 6   emp_title             373103 non-null  object \n",
            " 7   emp_length            377729 non-null  object \n",
            " 8   home_ownership        396030 non-null  object \n",
            " 9   annual_inc            396030 non-null  float64\n",
            " 10  verification_status   396030 non-null  object \n",
            " 11  issue_d               396030 non-null  object \n",
            " 12  loan_status           396030 non-null  object \n",
            " 13  purpose               396030 non-null  object \n",
            " 14  title                 394275 non-null  object \n",
            " 15  dti                   396030 non-null  float64\n",
            " 16  earliest_cr_line      396030 non-null  object \n",
            " 17  open_acc              396030 non-null  float64\n",
            " 18  pub_rec               396030 non-null  float64\n",
            " 19  revol_bal             396030 non-null  float64\n",
            " 20  revol_util            395754 non-null  float64\n",
            " 21  total_acc             396030 non-null  float64\n",
            " 22  initial_list_status   396030 non-null  object \n",
            " 23  application_type      396030 non-null  object \n",
            " 24  mort_acc              358235 non-null  float64\n",
            " 25  pub_rec_bankruptcies  395495 non-null  float64\n",
            " 26  address               396030 non-null  object \n",
            "dtypes: float64(12), object(15)\n",
            "memory usage: 81.6+ MB\n"
          ]
        }
      ]
    },
    {
      "cell_type": "markdown",
      "metadata": {
        "id": "_s7Q87Xfzt_q"
      },
      "source": [
        "\n"
      ]
    },
    {
      "cell_type": "markdown",
      "metadata": {
        "id": "ow1z0X8Ez1Xz"
      },
      "source": [
        "-----\n",
        "------\n",
        "\n",
        "# Section 1 : Analyse Exploratoire des Données (EDA)\n",
        "\n",
        "**OJECTIF GÉNÉRAL : Filter les variables importantes, consulter les statistiques sommaires et visualiser les données**\n",
        "\n",
        "\n",
        "----"
      ]
    },
    {
      "cell_type": "markdown",
      "metadata": {
        "id": "-8G4F4fCz-pD"
      },
      "source": [
        "**1)- Graphe de comptage**\n"
      ]
    },
    {
      "cell_type": "code",
      "metadata": {
        "id": "SeQuh3Dpznoh",
        "colab": {
          "base_uri": "https://localhost:8080/",
          "height": 280
        },
        "outputId": "7b3a68ae-0d4b-4a5a-ff2e-6aec70914fde"
      },
      "source": [
        "sns.countplot(x='loan_status',data=df);"
      ],
      "execution_count": 9,
      "outputs": [
        {
          "output_type": "display_data",
          "data": {
            "image/png": "[encoded data removed]",
            "text/plain": [
              "<Figure size 432x288 with 1 Axes>"
            ]
          },
          "metadata": {
            "needs_background": "light"
          }
        }
      ]
    },
    {
      "cell_type": "markdown",
      "metadata": {
        "id": "FMTnaTza0Q_z"
      },
      "source": [
        "**2)-histogramme de la colonne loan_amnt.**"
      ]
    },
    {
      "cell_type": "code",
      "metadata": {
        "id": "928wtGq30UQH",
        "colab": {
          "base_uri": "https://localhost:8080/",
          "height": 334
        },
        "outputId": "22447ebb-b966-42be-c2e3-444658e35330"
      },
      "source": [
        "plt.figure(figsize=(12,4))\n",
        "sns.distplot(df['loan_amnt'],kde=False,bins=40)\n",
        "plt.xlim(0,45000);"
      ],
      "execution_count": 10,
      "outputs": [
        {
          "output_type": "stream",
          "name": "stderr",
          "text": [
            "/usr/local/lib/python3.7/dist-packages/seaborn/distributions.py:2619: FutureWarning: `distplot` is a deprecated function and will be removed in a future version. Please adapt your code to use either `displot` (a figure-level function with similar flexibility) or `histplot` (an axes-level function for histograms).\n",
            "  warnings.warn(msg, FutureWarning)\n"
          ]
        },
        {
          "output_type": "display_data",
          "data": {
            "image/png": "[encoded data removed]",
            "text/plain": [
              "<Figure size 864x288 with 1 Axes>"
            ]
          },
          "metadata": {
            "needs_background": "light"
          }
        }
      ]
    },
    {
      "cell_type": "markdown",
      "metadata": {
        "id": "8Y9jUMLm0Ywl"
      },
      "source": [
        "**3)-Examinons la corrélation entre les variables de features continues.**"
      ]
    },
    {
      "cell_type": "code",
      "metadata": {
        "id": "_IvIuF1R0e6U",
        "colab": {
          "base_uri": "https://localhost:8080/",
          "height": 441
        },
        "outputId": "6afd1b20-528c-4033-e1de-785bdc480146"
      },
      "source": [
        "df.corr()"
      ],
      "execution_count": 11,
      "outputs": [
        {
          "output_type": "execute_result",
          "data": {
            "text/html": [
              "<div>\n",
              "<style scoped>\n",
              "    .dataframe tbody tr th:only-of-type {\n",
              "        vertical-align: middle;\n",
              "    }\n",
              "\n",
              "    .dataframe tbody tr th {\n",
              "        vertical-align: top;\n",
              "    }\n",
              "\n",
              "    .dataframe thead th {\n",
              "        text-align: right;\n",
              "    }\n",
              "</style>\n",
              "<table border=\"1\" class=\"dataframe\">\n",
              "  <thead>\n",
              "    <tr style=\"text-align: right;\">\n",
              "      <th></th>\n",
              "      <th>loan_amnt</th>\n",
              "      <th>int_rate</th>\n",
              "      <th>installment</th>\n",
              "      <th>annual_inc</th>\n",
              "      <th>dti</th>\n",
              "      <th>open_acc</th>\n",
              "      <th>pub_rec</th>\n",
              "      <th>revol_bal</th>\n",
              "      <th>revol_util</th>\n",
              "      <th>total_acc</th>\n",
              "      <th>mort_acc</th>\n",
              "      <th>pub_rec_bankruptcies</th>\n",
              "    </tr>\n",
              "  </thead>\n",
              "  <tbody>\n",
              "    <tr>\n",
              "      <th>loan_amnt</th>\n",
              "      <td>1.000000</td>\n",
              "      <td>0.168921</td>\n",
              "      <td>0.953929</td>\n",
              "      <td>0.336887</td>\n",
              "      <td>0.016636</td>\n",
              "      <td>0.198556</td>\n",
              "      <td>-0.077779</td>\n",
              "      <td>0.328320</td>\n",
              "      <td>0.099911</td>\n",
              "      <td>0.223886</td>\n",
              "      <td>0.222315</td>\n",
              "      <td>-0.106539</td>\n",
              "    </tr>\n",
              "    <tr>\n",
              "      <th>int_rate</th>\n",
              "      <td>0.168921</td>\n",
              "      <td>1.000000</td>\n",
              "      <td>0.162758</td>\n",
              "      <td>-0.056771</td>\n",
              "      <td>0.079038</td>\n",
              "      <td>0.011649</td>\n",
              "      <td>0.060986</td>\n",
              "      <td>-0.011280</td>\n",
              "      <td>0.293659</td>\n",
              "      <td>-0.036404</td>\n",
              "      <td>-0.082583</td>\n",
              "      <td>0.057450</td>\n",
              "    </tr>\n",
              "    <tr>\n",
              "      <th>installment</th>\n",
              "      <td>0.953929</td>\n",
              "      <td>0.162758</td>\n",
              "      <td>1.000000</td>\n",
              "      <td>0.330381</td>\n",
              "      <td>0.015786</td>\n",
              "      <td>0.188973</td>\n",
              "      <td>-0.067892</td>\n",
              "      <td>0.316455</td>\n",
              "      <td>0.123915</td>\n",
              "      <td>0.202430</td>\n",
              "      <td>0.193694</td>\n",
              "      <td>-0.098628</td>\n",
              "    </tr>\n",
              "    <tr>\n",
              "      <th>annual_inc</th>\n",
              "      <td>0.336887</td>\n",
              "      <td>-0.056771</td>\n",
              "      <td>0.330381</td>\n",
              "      <td>1.000000</td>\n",
              "      <td>-0.081685</td>\n",
              "      <td>0.136150</td>\n",
              "      <td>-0.013720</td>\n",
              "      <td>0.299773</td>\n",
              "      <td>0.027871</td>\n",
              "      <td>0.193023</td>\n",
              "      <td>0.236320</td>\n",
              "      <td>-0.050162</td>\n",
              "    </tr>\n",
              "    <tr>\n",
              "      <th>dti</th>\n",
              "      <td>0.016636</td>\n",
              "      <td>0.079038</td>\n",
              "      <td>0.015786</td>\n",
              "      <td>-0.081685</td>\n",
              "      <td>1.000000</td>\n",
              "      <td>0.136181</td>\n",
              "      <td>-0.017639</td>\n",
              "      <td>0.063571</td>\n",
              "      <td>0.088375</td>\n",
              "      <td>0.102128</td>\n",
              "      <td>-0.025439</td>\n",
              "      <td>-0.014558</td>\n",
              "    </tr>\n",
              "    <tr>\n",
              "      <th>open_acc</th>\n",
              "      <td>0.198556</td>\n",
              "      <td>0.011649</td>\n",
              "      <td>0.188973</td>\n",
              "      <td>0.136150</td>\n",
              "      <td>0.136181</td>\n",
              "      <td>1.000000</td>\n",
              "      <td>-0.018392</td>\n",
              "      <td>0.221192</td>\n",
              "      <td>-0.131420</td>\n",
              "      <td>0.680728</td>\n",
              "      <td>0.109205</td>\n",
              "      <td>-0.027732</td>\n",
              "    </tr>\n",
              "    <tr>\n",
              "      <th>pub_rec</th>\n",
              "      <td>-0.077779</td>\n",
              "      <td>0.060986</td>\n",
              "      <td>-0.067892</td>\n",
              "      <td>-0.013720</td>\n",
              "      <td>-0.017639</td>\n",
              "      <td>-0.018392</td>\n",
              "      <td>1.000000</td>\n",
              "      <td>-0.101664</td>\n",
              "      <td>-0.075910</td>\n",
              "      <td>0.019723</td>\n",
              "      <td>0.011552</td>\n",
              "      <td>0.699408</td>\n",
              "    </tr>\n",
              "    <tr>\n",
              "      <th>revol_bal</th>\n",
              "      <td>0.328320</td>\n",
              "      <td>-0.011280</td>\n",
              "      <td>0.316455</td>\n",
              "      <td>0.299773</td>\n",
              "      <td>0.063571</td>\n",
              "      <td>0.221192</td>\n",
              "      <td>-0.101664</td>\n",
              "      <td>1.000000</td>\n",
              "      <td>0.226346</td>\n",
              "      <td>0.191616</td>\n",
              "      <td>0.194925</td>\n",
              "      <td>-0.124532</td>\n",
              "    </tr>\n",
              "    <tr>\n",
              "      <th>revol_util</th>\n",
              "      <td>0.099911</td>\n",
              "      <td>0.293659</td>\n",
              "      <td>0.123915</td>\n",
              "      <td>0.027871</td>\n",
              "      <td>0.088375</td>\n",
              "      <td>-0.131420</td>\n",
              "      <td>-0.075910</td>\n",
              "      <td>0.226346</td>\n",
              "      <td>1.000000</td>\n",
              "      <td>-0.104273</td>\n",
              "      <td>0.007514</td>\n",
              "      <td>-0.086751</td>\n",
              "    </tr>\n",
              "    <tr>\n",
              "      <th>total_acc</th>\n",
              "      <td>0.223886</td>\n",
              "      <td>-0.036404</td>\n",
              "      <td>0.202430</td>\n",
              "      <td>0.193023</td>\n",
              "      <td>0.102128</td>\n",
              "      <td>0.680728</td>\n",
              "      <td>0.019723</td>\n",
              "      <td>0.191616</td>\n",
              "      <td>-0.104273</td>\n",
              "      <td>1.000000</td>\n",
              "      <td>0.381072</td>\n",
              "      <td>0.042035</td>\n",
              "    </tr>\n",
              "    <tr>\n",
              "      <th>mort_acc</th>\n",
              "      <td>0.222315</td>\n",
              "      <td>-0.082583</td>\n",
              "      <td>0.193694</td>\n",
              "      <td>0.236320</td>\n",
              "      <td>-0.025439</td>\n",
              "      <td>0.109205</td>\n",
              "      <td>0.011552</td>\n",
              "      <td>0.194925</td>\n",
              "      <td>0.007514</td>\n",
              "      <td>0.381072</td>\n",
              "      <td>1.000000</td>\n",
              "      <td>0.027239</td>\n",
              "    </tr>\n",
              "    <tr>\n",
              "      <th>pub_rec_bankruptcies</th>\n",
              "      <td>-0.106539</td>\n",
              "      <td>0.057450</td>\n",
              "      <td>-0.098628</td>\n",
              "      <td>-0.050162</td>\n",
              "      <td>-0.014558</td>\n",
              "      <td>-0.027732</td>\n",
              "      <td>0.699408</td>\n",
              "      <td>-0.124532</td>\n",
              "      <td>-0.086751</td>\n",
              "      <td>0.042035</td>\n",
              "      <td>0.027239</td>\n",
              "      <td>1.000000</td>\n",
              "    </tr>\n",
              "  </tbody>\n",
              "</table>\n",
              "</div>"
            ],
            "text/plain": [
              "                      loan_amnt  int_rate  ...  mort_acc  pub_rec_bankruptcies\n",
              "loan_amnt              1.000000  0.168921  ...  0.222315             -0.106539\n",
              "int_rate               0.168921  1.000000  ... -0.082583              0.057450\n",
              "installment            0.953929  0.162758  ...  0.193694             -0.098628\n",
              "annual_inc             0.336887 -0.056771  ...  0.236320             -0.050162\n",
              "dti                    0.016636  0.079038  ... -0.025439             -0.014558\n",
              "open_acc               0.198556  0.011649  ...  0.109205             -0.027732\n",
              "pub_rec               -0.077779  0.060986  ...  0.011552              0.699408\n",
              "revol_bal              0.328320 -0.011280  ...  0.194925             -0.124532\n",
              "revol_util             0.099911  0.293659  ...  0.007514             -0.086751\n",
              "total_acc              0.223886 -0.036404  ...  0.381072              0.042035\n",
              "mort_acc               0.222315 -0.082583  ...  1.000000              0.027239\n",
              "pub_rec_bankruptcies  -0.106539  0.057450  ...  0.027239              1.000000\n",
              "\n",
              "[12 rows x 12 columns]"
            ]
          },
          "metadata": {},
          "execution_count": 11
        }
      ]
    },
    {
      "cell_type": "markdown",
      "metadata": {
        "id": "2IFoinpG0kHo"
      },
      "source": [
        "**4)- Visualisez la correlation  à l'aide d'une carte de chaleur (heatmap)**.\n",
        "\n"
      ]
    },
    {
      "cell_type": "code",
      "metadata": {
        "id": "FAQzoI240ylq",
        "colab": {
          "base_uri": "https://localhost:8080/",
          "height": 532
        },
        "outputId": "05730c05-a8a1-4858-ca62-0153326aef57"
      },
      "source": [
        "plt.figure(figsize=(12,7))\n",
        "sns.heatmap(df.corr(),annot=True,cmap='viridis')\n",
        "plt.ylim(10, 0);"
      ],
      "execution_count": 12,
      "outputs": [
        {
          "output_type": "display_data",
          "data": {
            "image/png": "[encoded data removed]",
            "text/plain": [
              "<Figure size 864x504 with 2 Axes>"
            ]
          },
          "metadata": {
            "needs_background": "light"
          }
        }
      ]
    },
    {
      "cell_type": "markdown",
      "metadata": {
        "id": "Fui65V_v06MN"
      },
      "source": [
        "**5)-On remarque qu'il ya  une corrélation presque parfaite avec la feature \"installment\". On vas explorer cette feature plus en détail. (descriptions, graphe de nuage de points entre elles)**"
      ]
    },
    {
      "cell_type": "code",
      "metadata": {
        "id": "OlK5iZvK1IYI",
        "colab": {
          "base_uri": "https://localhost:8080/"
        },
        "outputId": "f9a96ee3-4193-4b63-e8ec-31f3cb7edf7b"
      },
      "source": [
        "feat_info('installment')"
      ],
      "execution_count": 13,
      "outputs": [
        {
          "output_type": "stream",
          "name": "stdout",
          "text": [
            "The monthly payment owed by the borrower if the loan originates.\n"
          ]
        }
      ]
    },
    {
      "cell_type": "code",
      "metadata": {
        "id": "7nKFADey1IwO",
        "colab": {
          "base_uri": "https://localhost:8080/"
        },
        "outputId": "4ddf0f28-5c8b-48e4-f666-837f0d33bfb0"
      },
      "source": [
        "feat_info('loan_amnt')"
      ],
      "execution_count": 14,
      "outputs": [
        {
          "output_type": "stream",
          "name": "stdout",
          "text": [
            "The listed amount of the loan applied for by the borrower. If at some point in time, the credit department reduces the loan amount, then it will be reflected in this value.\n"
          ]
        }
      ]
    },
    {
      "cell_type": "code",
      "metadata": {
        "id": "WzjTLe-U1KMq",
        "colab": {
          "base_uri": "https://localhost:8080/",
          "height": 279
        },
        "outputId": "17ed797c-6fb7-4e9e-e98b-2bb44a3e63fb"
      },
      "source": [
        "sns.scatterplot(x='installment',y='loan_amnt',data=df,);"
      ],
      "execution_count": 15,
      "outputs": [
        {
          "output_type": "display_data",
          "data": {
            "image/png": "[encoded data removed]",
            "text/plain": [
              "<Figure size 432x288 with 1 Axes>"
            ]
          },
          "metadata": {
            "needs_background": "light"
          }
        }
      ]
    },
    {
      "cell_type": "markdown",
      "metadata": {
        "id": "EkL_jEXS1Pcr"
      },
      "source": [
        "**6)-un diagramme en boîtes (boxplot) montrant la relation entre le statut du prêt (loan_status) et le montant du prêt.**"
      ]
    },
    {
      "cell_type": "code",
      "metadata": {
        "id": "rPM1xKEo1ho_",
        "colab": {
          "base_uri": "https://localhost:8080/",
          "height": 280
        },
        "outputId": "84c56f81-63e8-4293-faf6-bfbf7f2730c1"
      },
      "source": [
        "sns.boxplot(x='loan_status',y='loan_amnt',data=df);"
      ],
      "execution_count": 16,
      "outputs": [
        {
          "output_type": "display_data",
          "data": {
            "image/png": "[encoded data removed]",
            "text/plain": [
              "<Figure size 432x288 with 1 Axes>"
            ]
          },
          "metadata": {
            "needs_background": "light"
          }
        }
      ]
    },
    {
      "cell_type": "markdown",
      "metadata": {
        "id": "RysHP_MPijQZ"
      },
      "source": [
        " **On remarque que  le boite Charged off est deja plus haute que fully paid ce la signifie que lorsque le montant de  prêt est eleve on a plus de chance que emprunt ne sera pas rembourser.**\n",
        "\n"
      ]
    },
    {
      "cell_type": "markdown",
      "metadata": {
        "id": "y5vUj9p71l6g"
      },
      "source": [
        "**7)-On Calcule les statistiques sommaires pour le montant du prêt, regroupées par la feature loan_status.**"
      ]
    },
    {
      "cell_type": "code",
      "metadata": {
        "id": "iOorRELJ1sgD",
        "colab": {
          "base_uri": "https://localhost:8080/",
          "height": 142
        },
        "outputId": "76b83f78-4d4c-46da-8cfd-8e3b926431e2"
      },
      "source": [
        "df.groupby('loan_status')['loan_amnt'].describe()"
      ],
      "execution_count": 17,
      "outputs": [
        {
          "output_type": "execute_result",
          "data": {
            "text/html": [
              "<div>\n",
              "<style scoped>\n",
              "    .dataframe tbody tr th:only-of-type {\n",
              "        vertical-align: middle;\n",
              "    }\n",
              "\n",
              "    .dataframe tbody tr th {\n",
              "        vertical-align: top;\n",
              "    }\n",
              "\n",
              "    .dataframe thead th {\n",
              "        text-align: right;\n",
              "    }\n",
              "</style>\n",
              "<table border=\"1\" class=\"dataframe\">\n",
              "  <thead>\n",
              "    <tr style=\"text-align: right;\">\n",
              "      <th></th>\n",
              "      <th>count</th>\n",
              "      <th>mean</th>\n",
              "      <th>std</th>\n",
              "      <th>min</th>\n",
              "      <th>25%</th>\n",
              "      <th>50%</th>\n",
              "      <th>75%</th>\n",
              "      <th>max</th>\n",
              "    </tr>\n",
              "    <tr>\n",
              "      <th>loan_status</th>\n",
              "      <th></th>\n",
              "      <th></th>\n",
              "      <th></th>\n",
              "      <th></th>\n",
              "      <th></th>\n",
              "      <th></th>\n",
              "      <th></th>\n",
              "      <th></th>\n",
              "    </tr>\n",
              "  </thead>\n",
              "  <tbody>\n",
              "    <tr>\n",
              "      <th>Charged Off</th>\n",
              "      <td>77673.0</td>\n",
              "      <td>15126.300967</td>\n",
              "      <td>8505.090557</td>\n",
              "      <td>1000.0</td>\n",
              "      <td>8525.0</td>\n",
              "      <td>14000.0</td>\n",
              "      <td>20000.0</td>\n",
              "      <td>40000.0</td>\n",
              "    </tr>\n",
              "    <tr>\n",
              "      <th>Fully Paid</th>\n",
              "      <td>318357.0</td>\n",
              "      <td>13866.878771</td>\n",
              "      <td>8302.319699</td>\n",
              "      <td>500.0</td>\n",
              "      <td>7500.0</td>\n",
              "      <td>12000.0</td>\n",
              "      <td>19225.0</td>\n",
              "      <td>40000.0</td>\n",
              "    </tr>\n",
              "  </tbody>\n",
              "</table>\n",
              "</div>"
            ],
            "text/plain": [
              "                count          mean          std  ...      50%      75%      max\n",
              "loan_status                                       ...                           \n",
              "Charged Off   77673.0  15126.300967  8505.090557  ...  14000.0  20000.0  40000.0\n",
              "Fully Paid   318357.0  13866.878771  8302.319699  ...  12000.0  19225.0  40000.0\n",
              "\n",
              "[2 rows x 8 columns]"
            ]
          },
          "metadata": {},
          "execution_count": 17
        }
      ]
    },
    {
      "cell_type": "markdown",
      "metadata": {
        "id": "UPqEc6kt1xY4"
      },
      "source": [
        "**8)- les colonnes Grade et SubGrade que LendingClub attribue aux prêts.**"
      ]
    },
    {
      "cell_type": "code",
      "metadata": {
        "id": "tZpt3B7R2Nri",
        "colab": {
          "base_uri": "https://localhost:8080/"
        },
        "outputId": "3e8b2740-865e-4868-84ca-35ae9ad85d68"
      },
      "source": [
        "sorted(df['grade'].unique())"
      ],
      "execution_count": 18,
      "outputs": [
        {
          "output_type": "execute_result",
          "data": {
            "text/plain": [
              "['A', 'B', 'C', 'D', 'E', 'F', 'G']"
            ]
          },
          "metadata": {},
          "execution_count": 18
        }
      ]
    },
    {
      "cell_type": "code",
      "metadata": {
        "id": "bkph1Tpt2OCh",
        "colab": {
          "base_uri": "https://localhost:8080/"
        },
        "outputId": "753a5657-c19a-4f74-d164-5514272d5146"
      },
      "source": [
        "sorted(df['sub_grade'].unique())"
      ],
      "execution_count": 19,
      "outputs": [
        {
          "output_type": "execute_result",
          "data": {
            "text/plain": [
              "['A1',\n",
              " 'A2',\n",
              " 'A3',\n",
              " 'A4',\n",
              " 'A5',\n",
              " 'B1',\n",
              " 'B2',\n",
              " 'B3',\n",
              " 'B4',\n",
              " 'B5',\n",
              " 'C1',\n",
              " 'C2',\n",
              " 'C3',\n",
              " 'C4',\n",
              " 'C5',\n",
              " 'D1',\n",
              " 'D2',\n",
              " 'D3',\n",
              " 'D4',\n",
              " 'D5',\n",
              " 'E1',\n",
              " 'E2',\n",
              " 'E3',\n",
              " 'E4',\n",
              " 'E5',\n",
              " 'F1',\n",
              " 'F2',\n",
              " 'F3',\n",
              " 'F4',\n",
              " 'F5',\n",
              " 'G1',\n",
              " 'G2',\n",
              " 'G3',\n",
              " 'G4',\n",
              " 'G5']"
            ]
          },
          "metadata": {},
          "execution_count": 19
        }
      ]
    },
    {
      "cell_type": "markdown",
      "metadata": {
        "id": "jnfec1842S4S"
      },
      "source": [
        "**9)- graphe de comptage par notation (grade).**"
      ]
    },
    {
      "cell_type": "code",
      "metadata": {
        "id": "5F5ZS39z2P5A",
        "colab": {
          "base_uri": "https://localhost:8080/",
          "height": 279
        },
        "outputId": "bcd747be-2128-436c-8aee-e2447532c6b6"
      },
      "source": [
        "sns.countplot(x='grade',data=df,hue='loan_status');"
      ],
      "execution_count": 20,
      "outputs": [
        {
          "output_type": "display_data",
          "data": {
            "image/png": "[encoded data removed]",
            "text/plain": [
              "<Figure size 432x288 with 1 Axes>"
            ]
          },
          "metadata": {
            "needs_background": "light"
          }
        }
      ]
    },
    {
      "cell_type": "markdown",
      "metadata": {
        "id": "jo7kVGgI4WQt"
      },
      "source": [
        "**10)- graphe de comptage par sous-notation de qualité du prêt (subgrade).**."
      ]
    },
    {
      "cell_type": "code",
      "metadata": {
        "id": "c_PxsbIV4rS_",
        "colab": {
          "base_uri": "https://localhost:8080/",
          "height": 280
        },
        "outputId": "f71d88fa-40b7-492a-b678-e4752b4b8b7d"
      },
      "source": [
        "plt.figure(figsize=(12,4))\n",
        "subgrade_order = sorted(df['sub_grade'].unique())\n",
        "sns.countplot(x='sub_grade',data=df,order = subgrade_order,palette='coolwarm' );"
      ],
      "execution_count": 21,
      "outputs": [
        {
          "output_type": "display_data",
          "data": {
            "image/png": "[encoded data removed]",
            "text/plain": [
              "<Figure size 864x288 with 1 Axes>"
            ]
          },
          "metadata": {
            "needs_background": "light"
          }
        }
      ]
    },
    {
      "cell_type": "code",
      "metadata": {
        "id": "A6xpH1q75awt",
        "colab": {
          "base_uri": "https://localhost:8080/",
          "height": 280
        },
        "outputId": "6ec2db4d-d9e6-498c-91df-12cf764f7ee4"
      },
      "source": [
        "plt.figure(figsize=(12,4))\n",
        "subgrade_order = sorted(df['sub_grade'].unique())\n",
        "sns.countplot(x='sub_grade',data=df,order = subgrade_order,palette='coolwarm' ,hue='loan_status');"
      ],
      "execution_count": 22,
      "outputs": [
        {
          "output_type": "display_data",
          "data": {
            "image/png": "[encoded data removed]",
            "text/plain": [
              "<Figure size 864x288 with 1 Axes>"
            ]
          },
          "metadata": {
            "needs_background": "light"
          }
        }
      ]
    },
    {
      "cell_type": "markdown",
      "metadata": {
        "id": "4NoT3kVW6LdB"
      },
      "source": [
        "**Il semble que les notes F et G ne soient pas remboursées très souvent. on vas Isoler-les et recréer le graphique de comptage juste pour leurs sous-niveaux de notation (subgrade).**"
      ]
    },
    {
      "cell_type": "code",
      "metadata": {
        "id": "zErh5Sji6cGa",
        "colab": {
          "base_uri": "https://localhost:8080/",
          "height": 280
        },
        "outputId": "1ba4131b-1d03-4d33-99d7-6d617ae1babb"
      },
      "source": [
        "f_and_g = df[(df['grade']=='G') | (df['grade']=='F')]\n",
        "\n",
        "plt.figure(figsize=(12,4))\n",
        "subgrade_order = sorted(f_and_g['sub_grade'].unique())\n",
        "sns.countplot(x='sub_grade',data=f_and_g,order = subgrade_order,hue='loan_status');"
      ],
      "execution_count": 23,
      "outputs": [
        {
          "output_type": "display_data",
          "data": {
            "image/png": "[encoded data removed]",
            "text/plain": [
              "<Figure size 864x288 with 1 Axes>"
            ]
          },
          "metadata": {
            "needs_background": "light"
          }
        }
      ]
    },
    {
      "cell_type": "markdown",
      "metadata": {
        "id": "biO2KOBV6gg6"
      },
      "source": [
        "**11)- Création d'une nouvelle colonne appelée \"loan_repaid\" qui contiendra 1 si le statut du prêt était \"Fully Paid\" et un 0 s'il était \"Charged Off\".**"
      ]
    },
    {
      "cell_type": "code",
      "metadata": {
        "id": "ffk9Tq9O6oiW",
        "colab": {
          "base_uri": "https://localhost:8080/"
        },
        "outputId": "22b56366-f787-4b0b-e82c-998a69a311fa"
      },
      "source": [
        "df['loan_status'].unique()"
      ],
      "execution_count": 24,
      "outputs": [
        {
          "output_type": "execute_result",
          "data": {
            "text/plain": [
              "array(['Fully Paid', 'Charged Off'], dtype=object)"
            ]
          },
          "metadata": {},
          "execution_count": 24
        }
      ]
    },
    {
      "cell_type": "code",
      "metadata": {
        "id": "1jx7hPDS6pRo"
      },
      "source": [
        "df['loan_repaid'] = df['loan_status'].map({'Fully Paid':1,'Charged Off':0})"
      ],
      "execution_count": 25,
      "outputs": []
    },
    {
      "cell_type": "code",
      "metadata": {
        "id": "0UKOyCf26q7H",
        "colab": {
          "base_uri": "https://localhost:8080/",
          "height": 419
        },
        "outputId": "6706e193-13c4-411b-b3de-8221490f0e63"
      },
      "source": [
        "df[['loan_repaid','loan_status']]"
      ],
      "execution_count": 26,
      "outputs": [
        {
          "output_type": "execute_result",
          "data": {
            "text/html": [
              "<div>\n",
              "<style scoped>\n",
              "    .dataframe tbody tr th:only-of-type {\n",
              "        vertical-align: middle;\n",
              "    }\n",
              "\n",
              "    .dataframe tbody tr th {\n",
              "        vertical-align: top;\n",
              "    }\n",
              "\n",
              "    .dataframe thead th {\n",
              "        text-align: right;\n",
              "    }\n",
              "</style>\n",
              "<table border=\"1\" class=\"dataframe\">\n",
              "  <thead>\n",
              "    <tr style=\"text-align: right;\">\n",
              "      <th></th>\n",
              "      <th>loan_repaid</th>\n",
              "      <th>loan_status</th>\n",
              "    </tr>\n",
              "  </thead>\n",
              "  <tbody>\n",
              "    <tr>\n",
              "      <th>0</th>\n",
              "      <td>1</td>\n",
              "      <td>Fully Paid</td>\n",
              "    </tr>\n",
              "    <tr>\n",
              "      <th>1</th>\n",
              "      <td>1</td>\n",
              "      <td>Fully Paid</td>\n",
              "    </tr>\n",
              "    <tr>\n",
              "      <th>2</th>\n",
              "      <td>1</td>\n",
              "      <td>Fully Paid</td>\n",
              "    </tr>\n",
              "    <tr>\n",
              "      <th>3</th>\n",
              "      <td>1</td>\n",
              "      <td>Fully Paid</td>\n",
              "    </tr>\n",
              "    <tr>\n",
              "      <th>4</th>\n",
              "      <td>0</td>\n",
              "      <td>Charged Off</td>\n",
              "    </tr>\n",
              "    <tr>\n",
              "      <th>...</th>\n",
              "      <td>...</td>\n",
              "      <td>...</td>\n",
              "    </tr>\n",
              "    <tr>\n",
              "      <th>396025</th>\n",
              "      <td>1</td>\n",
              "      <td>Fully Paid</td>\n",
              "    </tr>\n",
              "    <tr>\n",
              "      <th>396026</th>\n",
              "      <td>1</td>\n",
              "      <td>Fully Paid</td>\n",
              "    </tr>\n",
              "    <tr>\n",
              "      <th>396027</th>\n",
              "      <td>1</td>\n",
              "      <td>Fully Paid</td>\n",
              "    </tr>\n",
              "    <tr>\n",
              "      <th>396028</th>\n",
              "      <td>1</td>\n",
              "      <td>Fully Paid</td>\n",
              "    </tr>\n",
              "    <tr>\n",
              "      <th>396029</th>\n",
              "      <td>1</td>\n",
              "      <td>Fully Paid</td>\n",
              "    </tr>\n",
              "  </tbody>\n",
              "</table>\n",
              "<p>396030 rows × 2 columns</p>\n",
              "</div>"
            ],
            "text/plain": [
              "        loan_repaid  loan_status\n",
              "0                 1   Fully Paid\n",
              "1                 1   Fully Paid\n",
              "2                 1   Fully Paid\n",
              "3                 1   Fully Paid\n",
              "4                 0  Charged Off\n",
              "...             ...          ...\n",
              "396025            1   Fully Paid\n",
              "396026            1   Fully Paid\n",
              "396027            1   Fully Paid\n",
              "396028            1   Fully Paid\n",
              "396029            1   Fully Paid\n",
              "\n",
              "[396030 rows x 2 columns]"
            ]
          },
          "metadata": {},
          "execution_count": 26
        }
      ]
    },
    {
      "cell_type": "markdown",
      "metadata": {
        "id": "kdVx0w1U6zfd"
      },
      "source": [
        "**12)- Création d'un diagramme en barres (bar plot) montrant la corrélation entre les features numériques et la nouvelle colonne loan_repaid.**"
      ]
    },
    {
      "cell_type": "code",
      "metadata": {
        "id": "HRUMaljR7RTi",
        "colab": {
          "base_uri": "https://localhost:8080/",
          "height": 365
        },
        "outputId": "7e28329d-28ac-4120-bebc-abedaf3eb714"
      },
      "source": [
        "df.corr()['loan_repaid'].sort_values().drop('loan_repaid').plot(kind='bar');"
      ],
      "execution_count": 27,
      "outputs": [
        {
          "output_type": "display_data",
          "data": {
            "image/png": "[encoded data removed]",
            "text/plain": [
              "<Figure size 432x288 with 1 Axes>"
            ]
          },
          "metadata": {
            "needs_background": "light"
          }
        }
      ]
    },
    {
      "cell_type": "markdown",
      "metadata": {
        "id": "pjqGVmNB7vYv"
      },
      "source": [
        "---\n",
        "---\n",
        "# Section 2 : Pré-traitement des Données\n",
        "\n",
        "**Objectifs de la section : Supprimer ou compléter les données manquantes. Supprimer les éléments inutiles ou répétitifs. Convertir les features de type catégorie en variables dummies.**"
      ]
    },
    {
      "cell_type": "code",
      "metadata": {
        "id": "hsqXhJX57RtY",
        "colab": {
          "base_uri": "https://localhost:8080/",
          "height": 394
        },
        "outputId": "ee5ef296-4331-4c7a-c517-133cf1e63ab9"
      },
      "source": [
        "df.head()"
      ],
      "execution_count": 28,
      "outputs": [
        {
          "output_type": "execute_result",
          "data": {
            "text/html": [
              "<div>\n",
              "<style scoped>\n",
              "    .dataframe tbody tr th:only-of-type {\n",
              "        vertical-align: middle;\n",
              "    }\n",
              "\n",
              "    .dataframe tbody tr th {\n",
              "        vertical-align: top;\n",
              "    }\n",
              "\n",
              "    .dataframe thead th {\n",
              "        text-align: right;\n",
              "    }\n",
              "</style>\n",
              "<table border=\"1\" class=\"dataframe\">\n",
              "  <thead>\n",
              "    <tr style=\"text-align: right;\">\n",
              "      <th></th>\n",
              "      <th>loan_amnt</th>\n",
              "      <th>term</th>\n",
              "      <th>int_rate</th>\n",
              "      <th>installment</th>\n",
              "      <th>grade</th>\n",
              "      <th>sub_grade</th>\n",
              "      <th>emp_title</th>\n",
              "      <th>emp_length</th>\n",
              "      <th>home_ownership</th>\n",
              "      <th>annual_inc</th>\n",
              "      <th>verification_status</th>\n",
              "      <th>issue_d</th>\n",
              "      <th>loan_status</th>\n",
              "      <th>purpose</th>\n",
              "      <th>title</th>\n",
              "      <th>dti</th>\n",
              "      <th>earliest_cr_line</th>\n",
              "      <th>open_acc</th>\n",
              "      <th>pub_rec</th>\n",
              "      <th>revol_bal</th>\n",
              "      <th>revol_util</th>\n",
              "      <th>total_acc</th>\n",
              "      <th>initial_list_status</th>\n",
              "      <th>application_type</th>\n",
              "      <th>mort_acc</th>\n",
              "      <th>pub_rec_bankruptcies</th>\n",
              "      <th>address</th>\n",
              "      <th>loan_repaid</th>\n",
              "    </tr>\n",
              "  </thead>\n",
              "  <tbody>\n",
              "    <tr>\n",
              "      <th>0</th>\n",
              "      <td>10000.0</td>\n",
              "      <td>36 months</td>\n",
              "      <td>11.44</td>\n",
              "      <td>329.48</td>\n",
              "      <td>B</td>\n",
              "      <td>B4</td>\n",
              "      <td>Marketing</td>\n",
              "      <td>10+ years</td>\n",
              "      <td>RENT</td>\n",
              "      <td>117000.0</td>\n",
              "      <td>Not Verified</td>\n",
              "      <td>Jan-2015</td>\n",
              "      <td>Fully Paid</td>\n",
              "      <td>vacation</td>\n",
              "      <td>Vacation</td>\n",
              "      <td>26.24</td>\n",
              "      <td>Jun-1990</td>\n",
              "      <td>16.0</td>\n",
              "      <td>0.0</td>\n",
              "      <td>36369.0</td>\n",
              "      <td>41.8</td>\n",
              "      <td>25.0</td>\n",
              "      <td>w</td>\n",
              "      <td>INDIVIDUAL</td>\n",
              "      <td>0.0</td>\n",
              "      <td>0.0</td>\n",
              "      <td>0174 Michelle Gateway\\r\\nMendozaberg, OK 22690</td>\n",
              "      <td>1</td>\n",
              "    </tr>\n",
              "    <tr>\n",
              "      <th>1</th>\n",
              "      <td>8000.0</td>\n",
              "      <td>36 months</td>\n",
              "      <td>11.99</td>\n",
              "      <td>265.68</td>\n",
              "      <td>B</td>\n",
              "      <td>B5</td>\n",
              "      <td>Credit analyst</td>\n",
              "      <td>4 years</td>\n",
              "      <td>MORTGAGE</td>\n",
              "      <td>65000.0</td>\n",
              "      <td>Not Verified</td>\n",
              "      <td>Jan-2015</td>\n",
              "      <td>Fully Paid</td>\n",
              "      <td>debt_consolidation</td>\n",
              "      <td>Debt consolidation</td>\n",
              "      <td>22.05</td>\n",
              "      <td>Jul-2004</td>\n",
              "      <td>17.0</td>\n",
              "      <td>0.0</td>\n",
              "      <td>20131.0</td>\n",
              "      <td>53.3</td>\n",
              "      <td>27.0</td>\n",
              "      <td>f</td>\n",
              "      <td>INDIVIDUAL</td>\n",
              "      <td>3.0</td>\n",
              "      <td>0.0</td>\n",
              "      <td>1076 Carney Fort Apt. 347\\r\\nLoganmouth, SD 05113</td>\n",
              "      <td>1</td>\n",
              "    </tr>\n",
              "    <tr>\n",
              "      <th>2</th>\n",
              "      <td>15600.0</td>\n",
              "      <td>36 months</td>\n",
              "      <td>10.49</td>\n",
              "      <td>506.97</td>\n",
              "      <td>B</td>\n",
              "      <td>B3</td>\n",
              "      <td>Statistician</td>\n",
              "      <td>&lt; 1 year</td>\n",
              "      <td>RENT</td>\n",
              "      <td>43057.0</td>\n",
              "      <td>Source Verified</td>\n",
              "      <td>Jan-2015</td>\n",
              "      <td>Fully Paid</td>\n",
              "      <td>credit_card</td>\n",
              "      <td>Credit card refinancing</td>\n",
              "      <td>12.79</td>\n",
              "      <td>Aug-2007</td>\n",
              "      <td>13.0</td>\n",
              "      <td>0.0</td>\n",
              "      <td>11987.0</td>\n",
              "      <td>92.2</td>\n",
              "      <td>26.0</td>\n",
              "      <td>f</td>\n",
              "      <td>INDIVIDUAL</td>\n",
              "      <td>0.0</td>\n",
              "      <td>0.0</td>\n",
              "      <td>87025 Mark Dale Apt. 269\\r\\nNew Sabrina, WV 05113</td>\n",
              "      <td>1</td>\n",
              "    </tr>\n",
              "    <tr>\n",
              "      <th>3</th>\n",
              "      <td>7200.0</td>\n",
              "      <td>36 months</td>\n",
              "      <td>6.49</td>\n",
              "      <td>220.65</td>\n",
              "      <td>A</td>\n",
              "      <td>A2</td>\n",
              "      <td>Client Advocate</td>\n",
              "      <td>6 years</td>\n",
              "      <td>RENT</td>\n",
              "      <td>54000.0</td>\n",
              "      <td>Not Verified</td>\n",
              "      <td>Nov-2014</td>\n",
              "      <td>Fully Paid</td>\n",
              "      <td>credit_card</td>\n",
              "      <td>Credit card refinancing</td>\n",
              "      <td>2.60</td>\n",
              "      <td>Sep-2006</td>\n",
              "      <td>6.0</td>\n",
              "      <td>0.0</td>\n",
              "      <td>5472.0</td>\n",
              "      <td>21.5</td>\n",
              "      <td>13.0</td>\n",
              "      <td>f</td>\n",
              "      <td>INDIVIDUAL</td>\n",
              "      <td>0.0</td>\n",
              "      <td>0.0</td>\n",
              "      <td>823 Reid Ford\\r\\nDelacruzside, MA 00813</td>\n",
              "      <td>1</td>\n",
              "    </tr>\n",
              "    <tr>\n",
              "      <th>4</th>\n",
              "      <td>24375.0</td>\n",
              "      <td>60 months</td>\n",
              "      <td>17.27</td>\n",
              "      <td>609.33</td>\n",
              "      <td>C</td>\n",
              "      <td>C5</td>\n",
              "      <td>Destiny Management Inc.</td>\n",
              "      <td>9 years</td>\n",
              "      <td>MORTGAGE</td>\n",
              "      <td>55000.0</td>\n",
              "      <td>Verified</td>\n",
              "      <td>Apr-2013</td>\n",
              "      <td>Charged Off</td>\n",
              "      <td>credit_card</td>\n",
              "      <td>Credit Card Refinance</td>\n",
              "      <td>33.95</td>\n",
              "      <td>Mar-1999</td>\n",
              "      <td>13.0</td>\n",
              "      <td>0.0</td>\n",
              "      <td>24584.0</td>\n",
              "      <td>69.8</td>\n",
              "      <td>43.0</td>\n",
              "      <td>f</td>\n",
              "      <td>INDIVIDUAL</td>\n",
              "      <td>1.0</td>\n",
              "      <td>0.0</td>\n",
              "      <td>679 Luna Roads\\r\\nGreggshire, VA 11650</td>\n",
              "      <td>0</td>\n",
              "    </tr>\n",
              "  </tbody>\n",
              "</table>\n",
              "</div>"
            ],
            "text/plain": [
              "   loan_amnt  ... loan_repaid\n",
              "0    10000.0  ...           1\n",
              "1     8000.0  ...           1\n",
              "2    15600.0  ...           1\n",
              "3     7200.0  ...           1\n",
              "4    24375.0  ...           0\n",
              "\n",
              "[5 rows x 28 columns]"
            ]
          },
          "metadata": {},
          "execution_count": 28
        }
      ]
    },
    {
      "cell_type": "markdown",
      "metadata": {
        "id": "M0vw-o7g8DYy"
      },
      "source": [
        "## Données manquantes\n",
        "\n",
        "**Explorons ces colonnes de données manquantes. Nous utilisons divers facteurs pour décider de leur utilité ou non, pour voir si nous devons les conserver, les éliminer ou compléter les données manquantes.**"
      ]
    },
    {
      "cell_type": "markdown",
      "metadata": {
        "id": "Pm4uBpS98iUo"
      },
      "source": [
        "**1)- Quelle est la taille du DataFrame ?**"
      ]
    },
    {
      "cell_type": "code",
      "metadata": {
        "id": "KRuC8o9N8gOS",
        "colab": {
          "base_uri": "https://localhost:8080/"
        },
        "outputId": "d7f36b65-49d7-45d7-a76d-acc6680f80a4"
      },
      "source": [
        "len(df)"
      ],
      "execution_count": 29,
      "outputs": [
        {
          "output_type": "execute_result",
          "data": {
            "text/plain": [
              "396030"
            ]
          },
          "metadata": {},
          "execution_count": 29
        }
      ]
    },
    {
      "cell_type": "markdown",
      "metadata": {
        "id": "rm1-tm3i8sQs"
      },
      "source": [
        "**2)- Créer une Série qui affiche le nombre total de valeurs manquantes par colonne.**"
      ]
    },
    {
      "cell_type": "code",
      "metadata": {
        "id": "j2kfwKf28wKj",
        "colab": {
          "base_uri": "https://localhost:8080/"
        },
        "outputId": "72188b7e-6983-46fb-beff-2d93ebeebea1"
      },
      "source": [
        "df.isnull().sum()"
      ],
      "execution_count": 30,
      "outputs": [
        {
          "output_type": "execute_result",
          "data": {
            "text/plain": [
              "loan_amnt                   0\n",
              "term                        0\n",
              "int_rate                    0\n",
              "installment                 0\n",
              "grade                       0\n",
              "sub_grade                   0\n",
              "emp_title               22927\n",
              "emp_length              18301\n",
              "home_ownership              0\n",
              "annual_inc                  0\n",
              "verification_status         0\n",
              "issue_d                     0\n",
              "loan_status                 0\n",
              "purpose                     0\n",
              "title                    1755\n",
              "dti                         0\n",
              "earliest_cr_line            0\n",
              "open_acc                    0\n",
              "pub_rec                     0\n",
              "revol_bal                   0\n",
              "revol_util                276\n",
              "total_acc                   0\n",
              "initial_list_status         0\n",
              "application_type            0\n",
              "mort_acc                37795\n",
              "pub_rec_bankruptcies      535\n",
              "address                     0\n",
              "loan_repaid                 0\n",
              "dtype: int64"
            ]
          },
          "metadata": {},
          "execution_count": 30
        }
      ]
    },
    {
      "cell_type": "markdown",
      "metadata": {
        "id": "r_dsvOXK83rE"
      },
      "source": [
        "**4)- Convertir cette Série en pourcentage du total du DataFrame**"
      ]
    },
    {
      "cell_type": "code",
      "metadata": {
        "id": "P7losjSB86z4",
        "colab": {
          "base_uri": "https://localhost:8080/"
        },
        "outputId": "ec54abae-6066-498f-ebd0-9e9027243081"
      },
      "source": [
        "100* df.isnull().sum()/len(df)"
      ],
      "execution_count": 31,
      "outputs": [
        {
          "output_type": "execute_result",
          "data": {
            "text/plain": [
              "loan_amnt               0.000000\n",
              "term                    0.000000\n",
              "int_rate                0.000000\n",
              "installment             0.000000\n",
              "grade                   0.000000\n",
              "sub_grade               0.000000\n",
              "emp_title               5.789208\n",
              "emp_length              4.621115\n",
              "home_ownership          0.000000\n",
              "annual_inc              0.000000\n",
              "verification_status     0.000000\n",
              "issue_d                 0.000000\n",
              "loan_status             0.000000\n",
              "purpose                 0.000000\n",
              "title                   0.443148\n",
              "dti                     0.000000\n",
              "earliest_cr_line        0.000000\n",
              "open_acc                0.000000\n",
              "pub_rec                 0.000000\n",
              "revol_bal               0.000000\n",
              "revol_util              0.069692\n",
              "total_acc               0.000000\n",
              "initial_list_status     0.000000\n",
              "application_type        0.000000\n",
              "mort_acc                9.543469\n",
              "pub_rec_bankruptcies    0.135091\n",
              "address                 0.000000\n",
              "loan_repaid             0.000000\n",
              "dtype: float64"
            ]
          },
          "metadata": {},
          "execution_count": 31
        }
      ]
    },
    {
      "cell_type": "markdown",
      "metadata": {
        "id": "0RT68OW78-Ra"
      },
      "source": [
        "**5)- Examinons les features emp_title et emp_length pour voir s'il est possible de les éliminer.**"
      ]
    },
    {
      "cell_type": "code",
      "metadata": {
        "id": "ni0FN3DX9LRs",
        "colab": {
          "base_uri": "https://localhost:8080/"
        },
        "outputId": "af69562b-d914-4d5b-d37c-e526254c3c02"
      },
      "source": [
        "feat_info('emp_title')\n",
        "print('\\n')\n",
        "feat_info('emp_length')"
      ],
      "execution_count": 32,
      "outputs": [
        {
          "output_type": "stream",
          "name": "stdout",
          "text": [
            "The job title supplied by the Borrower when applying for the loan.*\n",
            "\n",
            "\n",
            "Employment length in years. Possible values are between 0 and 10 where 0 means less than one year and 10 means ten or more years. \n"
          ]
        }
      ]
    },
    {
      "cell_type": "markdown",
      "metadata": {
        "id": "DI61kTzb97gk"
      },
      "source": [
        "**6)-  Combien y a-t-il de titres d'emploi (emp_title) uniques ?**"
      ]
    },
    {
      "cell_type": "code",
      "metadata": {
        "id": "dTf_1Quh_KLP",
        "colab": {
          "base_uri": "https://localhost:8080/"
        },
        "outputId": "c29d737b-471f-4f21-b99e-5efd02a464c7"
      },
      "source": [
        "df['emp_title'].nunique()"
      ],
      "execution_count": 33,
      "outputs": [
        {
          "output_type": "execute_result",
          "data": {
            "text/plain": [
              "173105"
            ]
          },
          "metadata": {},
          "execution_count": 33
        }
      ]
    },
    {
      "cell_type": "code",
      "metadata": {
        "id": "28A6XD3w_Kf-",
        "colab": {
          "base_uri": "https://localhost:8080/"
        },
        "outputId": "79d5b7d8-5981-4c22-f0bf-002a726a445e"
      },
      "source": [
        "df['emp_title'].value_counts()"
      ],
      "execution_count": 34,
      "outputs": [
        {
          "output_type": "execute_result",
          "data": {
            "text/plain": [
              "Teacher                           4389\n",
              "Manager                           4250\n",
              "Registered Nurse                  1856\n",
              "RN                                1846\n",
              "Supervisor                        1830\n",
              "                                  ... \n",
              "Adair Co Board of Education          1\n",
              "millville board of education         1\n",
              "Criminal Information Tech II         1\n",
              "Willis of Texas                      1\n",
              "Associate Patient Care Manager       1\n",
              "Name: emp_title, Length: 173105, dtype: int64"
            ]
          },
          "metadata": {},
          "execution_count": 34
        }
      ]
    },
    {
      "cell_type": "markdown",
      "metadata": {
        "id": "wlWYJ9Au_qOq"
      },
      "source": [
        "**7)- En réalité, il y a trop de titres de postes uniques pour essayer de les convertir en une feature de variable dummy. Supprimons cette colonne emp_title.**"
      ]
    },
    {
      "cell_type": "code",
      "metadata": {
        "id": "27m6kVw3__l6"
      },
      "source": [
        "df = df.drop('emp_title',axis=1)"
      ],
      "execution_count": 35,
      "outputs": []
    },
    {
      "cell_type": "markdown",
      "metadata": {
        "id": "tpClndu4AC6J"
      },
      "source": [
        "**8)- Créer un graphique de comptage de la colonne de feature emp_length. Défi : Trier l'ordre des valeurs.**"
      ]
    },
    {
      "cell_type": "code",
      "metadata": {
        "id": "M8q6fnJHAJSO",
        "colab": {
          "base_uri": "https://localhost:8080/"
        },
        "outputId": "d11a0c6c-2203-4968-8650-edea1ba1e95a"
      },
      "source": [
        "sorted(df['emp_length'].dropna().unique())"
      ],
      "execution_count": 36,
      "outputs": [
        {
          "output_type": "execute_result",
          "data": {
            "text/plain": [
              "['1 year',\n",
              " '10+ years',\n",
              " '2 years',\n",
              " '3 years',\n",
              " '4 years',\n",
              " '5 years',\n",
              " '6 years',\n",
              " '7 years',\n",
              " '8 years',\n",
              " '9 years',\n",
              " '< 1 year']"
            ]
          },
          "metadata": {},
          "execution_count": 36
        }
      ]
    },
    {
      "cell_type": "code",
      "metadata": {
        "id": "XLjBZ1kMAJiX"
      },
      "source": [
        "emp_length_order = [ '< 1 year',\n",
        "                      '1 year',\n",
        "                     '2 years',\n",
        "                     '3 years',\n",
        "                     '4 years',\n",
        "                     '5 years',\n",
        "                     '6 years',\n",
        "                     '7 years',\n",
        "                     '8 years',\n",
        "                     '9 years',\n",
        "                     '10+ years']"
      ],
      "execution_count": 37,
      "outputs": []
    },
    {
      "cell_type": "code",
      "metadata": {
        "id": "mwHeY25yAMDv",
        "colab": {
          "base_uri": "https://localhost:8080/",
          "height": 280
        },
        "outputId": "25a326e7-ee8b-49c7-a075-c7531c6c3dee"
      },
      "source": [
        "plt.figure(figsize=(12,4))\n",
        "\n",
        "sns.countplot(x='emp_length',data=df,order=emp_length_order);"
      ],
      "execution_count": 38,
      "outputs": [
        {
          "output_type": "display_data",
          "data": {
            "image/png": "[encoded data removed]",
            "text/plain": [
              "<Figure size 864x288 with 1 Axes>"
            ]
          },
          "metadata": {
            "needs_background": "light"
          }
        }
      ]
    },
    {
      "cell_type": "markdown",
      "metadata": {
        "id": "LhsD8gX3AR8K"
      },
      "source": [
        "**9)- Tracant ce même décompte avec un paramètre hue de séparation entre \"Fully Paid\" et \"Charged Off\"**"
      ]
    },
    {
      "cell_type": "code",
      "metadata": {
        "id": "mXtF4q7JAkaA",
        "colab": {
          "base_uri": "https://localhost:8080/",
          "height": 280
        },
        "outputId": "e8cf55cb-dffa-455f-d821-51bae4a45d5c"
      },
      "source": [
        "plt.figure(figsize=(12,4))\n",
        "sns.countplot(x='emp_length',data=df,order=emp_length_order,hue='loan_status');"
      ],
      "execution_count": 39,
      "outputs": [
        {
          "output_type": "display_data",
          "data": {
            "image/png": "[encoded data removed]",
            "text/plain": [
              "<Figure size 864x288 with 1 Axes>"
            ]
          },
          "metadata": {
            "needs_background": "light"
          }
        }
      ]
    },
    {
      "cell_type": "markdown",
      "metadata": {
        "id": "pcHcQam6ApIp"
      },
      "source": [
        "**10)- cela ne nous indique pas encore vraiment s'il existe une relation étroite entre la durée de l'emploi et le fait de ne pas solder son emprunt, ce que nous voulons, c'est le pourcentage de prêts non remboursés par catégorie. Il s'agit essentiellement de nous informer du pourcentage de personnes par catégorie d'emploi qui n'ont pas remboursé leur prêt. Il existe une multitude de façons de créer cette Série.**"
      ]
    },
    {
      "cell_type": "code",
      "metadata": {
        "id": "a8szczjlA3HB"
      },
      "source": [
        "emp_co = df[df['loan_status']==\"Charged Off\"].groupby(\"emp_length\").count()['loan_status']"
      ],
      "execution_count": 40,
      "outputs": []
    },
    {
      "cell_type": "code",
      "metadata": {
        "id": "Fydh2eRlA3X6"
      },
      "source": [
        "emp_fp = df[df['loan_status']==\"Fully Paid\"].groupby(\"emp_length\").count()['loan_status']"
      ],
      "execution_count": 41,
      "outputs": []
    },
    {
      "cell_type": "code",
      "metadata": {
        "id": "44kOblTgA7M5"
      },
      "source": [
        "emp_len = emp_co/emp_fp"
      ],
      "execution_count": 42,
      "outputs": []
    },
    {
      "cell_type": "code",
      "metadata": {
        "id": "c21Tc13dA8vs",
        "colab": {
          "base_uri": "https://localhost:8080/"
        },
        "outputId": "bbc83f1c-7ad4-4246-d443-626ac103a629"
      },
      "source": [
        "emp_len"
      ],
      "execution_count": 43,
      "outputs": [
        {
          "output_type": "execute_result",
          "data": {
            "text/plain": [
              "emp_length\n",
              "1 year       0.248649\n",
              "10+ years    0.225770\n",
              "2 years      0.239560\n",
              "3 years      0.242593\n",
              "4 years      0.238213\n",
              "5 years      0.237911\n",
              "6 years      0.233341\n",
              "7 years      0.241887\n",
              "8 years      0.249625\n",
              "9 years      0.250735\n",
              "< 1 year     0.260830\n",
              "Name: loan_status, dtype: float64"
            ]
          },
          "metadata": {},
          "execution_count": 43
        }
      ]
    },
    {
      "cell_type": "code",
      "metadata": {
        "id": "hvVfJMIbA-GL",
        "colab": {
          "base_uri": "https://localhost:8080/",
          "height": 322
        },
        "outputId": "399aeb7f-101b-4c07-efa3-39a4e697cfcf"
      },
      "source": [
        "emp_len.plot(kind='bar');"
      ],
      "execution_count": 44,
      "outputs": [
        {
          "output_type": "display_data",
          "data": {
            "image/png": "[encoded data removed]",
            "text/plain": [
              "<Figure size 432x288 with 1 Axes>"
            ]
          },
          "metadata": {
            "needs_background": "light"
          }
        }
      ]
    },
    {
      "cell_type": "markdown",
      "metadata": {
        "id": "N_3H5FzHBE4W"
      },
      "source": [
        "**11)- Les taux de Charged Off sont extrêmement similaires pour toutes les durées d'emploi. on va éliminer la colonne emp_length.**"
      ]
    },
    {
      "cell_type": "code",
      "metadata": {
        "id": "fgZraVokBUwP"
      },
      "source": [
        "df = df.drop('emp_length',axis=1)"
      ],
      "execution_count": 45,
      "outputs": []
    },
    {
      "cell_type": "markdown",
      "metadata": {
        "id": "ywo_4jNTBYXW"
      },
      "source": [
        "## **Revoir le DataFrame pour voir quelles sont les colonnes de features pour lesquelles il manque encore des données.**"
      ]
    },
    {
      "cell_type": "code",
      "metadata": {
        "id": "hKFhY5EPBcyo",
        "colab": {
          "base_uri": "https://localhost:8080/"
        },
        "outputId": "6cb7e7e6-2e4a-47d3-edbb-d9f7f86b6190"
      },
      "source": [
        "df.isnull().sum()"
      ],
      "execution_count": 46,
      "outputs": [
        {
          "output_type": "execute_result",
          "data": {
            "text/plain": [
              "loan_amnt                   0\n",
              "term                        0\n",
              "int_rate                    0\n",
              "installment                 0\n",
              "grade                       0\n",
              "sub_grade                   0\n",
              "home_ownership              0\n",
              "annual_inc                  0\n",
              "verification_status         0\n",
              "issue_d                     0\n",
              "loan_status                 0\n",
              "purpose                     0\n",
              "title                    1755\n",
              "dti                         0\n",
              "earliest_cr_line            0\n",
              "open_acc                    0\n",
              "pub_rec                     0\n",
              "revol_bal                   0\n",
              "revol_util                276\n",
              "total_acc                   0\n",
              "initial_list_status         0\n",
              "application_type            0\n",
              "mort_acc                37795\n",
              "pub_rec_bankruptcies      535\n",
              "address                     0\n",
              "loan_repaid                 0\n",
              "dtype: int64"
            ]
          },
          "metadata": {},
          "execution_count": 46
        }
      ]
    },
    {
      "cell_type": "markdown",
      "metadata": {
        "id": "hqKpNNQgBgOg"
      },
      "source": [
        "**12)- Examinant le titre du prêt (colonne title) par rapport à l'objet du prêt (colonne purpose). S'agit-il d'une information répétitive ?**"
      ]
    },
    {
      "cell_type": "code",
      "metadata": {
        "id": "zYtN6COBB5xP",
        "colab": {
          "base_uri": "https://localhost:8080/"
        },
        "outputId": "0f5092ae-c53a-4304-a64f-88d0f9ac2762"
      },
      "source": [
        "df['purpose'].head(10)"
      ],
      "execution_count": 47,
      "outputs": [
        {
          "output_type": "execute_result",
          "data": {
            "text/plain": [
              "0              vacation\n",
              "1    debt_consolidation\n",
              "2           credit_card\n",
              "3           credit_card\n",
              "4           credit_card\n",
              "5    debt_consolidation\n",
              "6      home_improvement\n",
              "7           credit_card\n",
              "8    debt_consolidation\n",
              "9    debt_consolidation\n",
              "Name: purpose, dtype: object"
            ]
          },
          "metadata": {},
          "execution_count": 47
        }
      ]
    },
    {
      "cell_type": "code",
      "metadata": {
        "id": "FJFCpYr_B6BH",
        "colab": {
          "base_uri": "https://localhost:8080/"
        },
        "outputId": "268095cf-11d7-4a1c-f293-1729a9ca97ec"
      },
      "source": [
        "df['title'].head(10)"
      ],
      "execution_count": 48,
      "outputs": [
        {
          "output_type": "execute_result",
          "data": {
            "text/plain": [
              "0                   Vacation\n",
              "1         Debt consolidation\n",
              "2    Credit card refinancing\n",
              "3    Credit card refinancing\n",
              "4      Credit Card Refinance\n",
              "5         Debt consolidation\n",
              "6           Home improvement\n",
              "7       No More Credit Cards\n",
              "8         Debt consolidation\n",
              "9         Debt Consolidation\n",
              "Name: title, dtype: object"
            ]
          },
          "metadata": {},
          "execution_count": 48
        }
      ]
    },
    {
      "cell_type": "markdown",
      "metadata": {
        "id": "ogLRFUGjCgDC"
      },
      "source": [
        "**La colonne title est simplement une sous-catégorie/description de la colonne purpose. on va  éliminer la colonne title.**"
      ]
    },
    {
      "cell_type": "code",
      "metadata": {
        "id": "5jAPPgd0CteB"
      },
      "source": [
        "df = df.drop('title',axis=1)"
      ],
      "execution_count": 49,
      "outputs": []
    },
    {
      "cell_type": "markdown",
      "metadata": {
        "id": "9WHYzOW3CxHa"
      },
      "source": [
        "**13)- Découvrir ce que représente la feature mort_acc**"
      ]
    },
    {
      "cell_type": "code",
      "metadata": {
        "id": "0nT9NpqnC6WF",
        "colab": {
          "base_uri": "https://localhost:8080/"
        },
        "outputId": "c9697db1-83a6-474d-81f3-a4403fbeb92d"
      },
      "source": [
        "feat_info('mort_acc')"
      ],
      "execution_count": 50,
      "outputs": [
        {
          "output_type": "stream",
          "name": "stdout",
          "text": [
            "Number of mortgage accounts.\n"
          ]
        }
      ]
    },
    {
      "cell_type": "markdown",
      "metadata": {
        "id": "nLyaBhrZC9ln"
      },
      "source": [
        "**14)- créant un comptage des valeurs (value_counts) de la colonne mort_acc.**"
      ]
    },
    {
      "cell_type": "code",
      "metadata": {
        "id": "4cF-tG8hDEUA",
        "colab": {
          "base_uri": "https://localhost:8080/"
        },
        "outputId": "0fd50571-f0df-43dc-a3f5-cbefaf483cc2"
      },
      "source": [
        "df['mort_acc'].value_counts()"
      ],
      "execution_count": 51,
      "outputs": [
        {
          "output_type": "execute_result",
          "data": {
            "text/plain": [
              "0.0     139777\n",
              "1.0      60416\n",
              "2.0      49948\n",
              "3.0      38049\n",
              "4.0      27887\n",
              "5.0      18194\n",
              "6.0      11069\n",
              "7.0       6052\n",
              "8.0       3121\n",
              "9.0       1656\n",
              "10.0       865\n",
              "11.0       479\n",
              "12.0       264\n",
              "13.0       146\n",
              "14.0       107\n",
              "15.0        61\n",
              "16.0        37\n",
              "17.0        22\n",
              "18.0        18\n",
              "19.0        15\n",
              "20.0        13\n",
              "24.0        10\n",
              "22.0         7\n",
              "21.0         4\n",
              "25.0         4\n",
              "27.0         3\n",
              "23.0         2\n",
              "32.0         2\n",
              "26.0         2\n",
              "31.0         2\n",
              "30.0         1\n",
              "28.0         1\n",
              "34.0         1\n",
              "Name: mort_acc, dtype: int64"
            ]
          },
          "metadata": {},
          "execution_count": 51
        }
      ]
    },
    {
      "cell_type": "markdown",
      "metadata": {
        "id": "qDoxQc11DIVP"
      },
      "source": [
        "**Il y a de nombreuses façons de traiter ces données manquantes. Nous pourrions essayer de construire un modèle simple pour les complèter, tel qu'un modèle linéaire, nous pourrions simplement les complèter en nous basant sur la moyenne des autres colonnes, ou même regrouper les colonnes en catégories et ensuite fixer NaN comme sa propre catégorie. Il n'y a pas d'approche 100% correcte ! Passons en revue les autres colonnes pour voir laquelle est la plus fortement corrélée à mort_acc**"
      ]
    },
    {
      "cell_type": "code",
      "metadata": {
        "id": "KW9BX7-zDS-r",
        "colab": {
          "base_uri": "https://localhost:8080/"
        },
        "outputId": "f087631e-6718-4e7f-88cb-2894c73d593b"
      },
      "source": [
        "print(\"Correlation with the mort_acc column\")\n",
        "df.corr()['mort_acc'].sort_values()"
      ],
      "execution_count": 52,
      "outputs": [
        {
          "output_type": "stream",
          "name": "stdout",
          "text": [
            "Correlation with the mort_acc column\n"
          ]
        },
        {
          "output_type": "execute_result",
          "data": {
            "text/plain": [
              "int_rate               -0.082583\n",
              "dti                    -0.025439\n",
              "revol_util              0.007514\n",
              "pub_rec                 0.011552\n",
              "pub_rec_bankruptcies    0.027239\n",
              "loan_repaid             0.073111\n",
              "open_acc                0.109205\n",
              "installment             0.193694\n",
              "revol_bal               0.194925\n",
              "loan_amnt               0.222315\n",
              "annual_inc              0.236320\n",
              "total_acc               0.381072\n",
              "mort_acc                1.000000\n",
              "Name: mort_acc, dtype: float64"
            ]
          },
          "metadata": {},
          "execution_count": 52
        }
      ]
    },
    {
      "cell_type": "markdown",
      "metadata": {
        "id": "fecGHl9rDXEW"
      },
      "source": [
        "**On dirait que la feature total_acc est en corrélation avec la feature mort_acc, c'est logique ! Essayons cette approche fillna(). Nous allons regrouper le DataFrame par total_acc et calculer la valeur moyenne de mort_acc par entrée de total_acc. Pour obtenir le résultat ci-dessous:**"
      ]
    },
    {
      "cell_type": "code",
      "metadata": {
        "id": "V4MDk-Z-DkMg",
        "colab": {
          "base_uri": "https://localhost:8080/"
        },
        "outputId": "5e522fbe-0da6-4bc4-be76-67ad79b13c29"
      },
      "source": [
        "print(\"Mean of mort_acc column per total_acc\")\n",
        "df.groupby('total_acc').mean()['mort_acc']"
      ],
      "execution_count": 53,
      "outputs": [
        {
          "output_type": "stream",
          "name": "stdout",
          "text": [
            "Mean of mort_acc column per total_acc\n"
          ]
        },
        {
          "output_type": "execute_result",
          "data": {
            "text/plain": [
              "total_acc\n",
              "2.0      0.000000\n",
              "3.0      0.052023\n",
              "4.0      0.066743\n",
              "5.0      0.103289\n",
              "6.0      0.151293\n",
              "           ...   \n",
              "124.0    1.000000\n",
              "129.0    1.000000\n",
              "135.0    3.000000\n",
              "150.0    2.000000\n",
              "151.0    0.000000\n",
              "Name: mort_acc, Length: 118, dtype: float64"
            ]
          },
          "metadata": {},
          "execution_count": 53
        }
      ]
    },
    {
      "cell_type": "markdown",
      "metadata": {
        "id": "mHWaS3w2DoOz"
      },
      "source": [
        "**Remplissons les valeurs manquantes de mort_acc en fonction de leur valeur totale_acc. Si la valeur mort_acc est manquante, alors nous compléterons cette valeur manquante avec la valeur moyenne correspondant à sa valeur total_acc de la série que nous avons créée ci-dessus. Cela implique l'utilisation d'une méthode .apply() à deux colonnes.**\n",
        "\n"
      ]
    },
    {
      "cell_type": "code",
      "metadata": {
        "id": "Yso4xR7pDxdX"
      },
      "source": [
        "total_acc_avg = df.groupby('total_acc').mean()['mort_acc']"
      ],
      "execution_count": 54,
      "outputs": []
    },
    {
      "cell_type": "code",
      "metadata": {
        "id": "_6T58QG5Dxrm",
        "colab": {
          "base_uri": "https://localhost:8080/"
        },
        "outputId": "93287d30-a33b-4834-d888-b92a55cdb701"
      },
      "source": [
        "total_acc_avg[2.0]"
      ],
      "execution_count": 55,
      "outputs": [
        {
          "output_type": "execute_result",
          "data": {
            "text/plain": [
              "0.0"
            ]
          },
          "metadata": {},
          "execution_count": 55
        }
      ]
    },
    {
      "cell_type": "code",
      "metadata": {
        "id": "Na3cMUplDzRu"
      },
      "source": [
        "def fill_mort_acc(total_acc,mort_acc):\n",
        "    '''\n",
        "    Accepte les valeurs total_acc et mort_acc de la ligne.\n",
        "    Vérifie si la valeur mort_acc est NaN, si c'est le cas, il renvoie la valeur avg mort_acc\n",
        "    pour la valeur total_acc correspondante pour cette ligne.\n",
        "    \n",
        "    total_acc_avg ici doit être une série ou un dictionnaire contenant la correspondance de la\n",
        "    des moyennes de mort_acc regroupées par valeurs de total_acc.\n",
        "    '''\n",
        "    if np.isnan(mort_acc):\n",
        "        return total_acc_avg[total_acc]\n",
        "    else:\n",
        "        return mort_acc"
      ],
      "execution_count": 56,
      "outputs": []
    },
    {
      "cell_type": "code",
      "metadata": {
        "id": "1-GGY3uXEKOR"
      },
      "source": [
        "df['mort_acc'] = df.apply(lambda x: fill_mort_acc(x['total_acc'], x['mort_acc']), axis=1)\n"
      ],
      "execution_count": 57,
      "outputs": []
    },
    {
      "cell_type": "code",
      "metadata": {
        "id": "t9VOPjYGEMxs",
        "colab": {
          "base_uri": "https://localhost:8080/"
        },
        "outputId": "1a030328-1eee-46de-b992-b2d0330cc0fb"
      },
      "source": [
        "df.isnull().sum()"
      ],
      "execution_count": 58,
      "outputs": [
        {
          "output_type": "execute_result",
          "data": {
            "text/plain": [
              "loan_amnt                 0\n",
              "term                      0\n",
              "int_rate                  0\n",
              "installment               0\n",
              "grade                     0\n",
              "sub_grade                 0\n",
              "home_ownership            0\n",
              "annual_inc                0\n",
              "verification_status       0\n",
              "issue_d                   0\n",
              "loan_status               0\n",
              "purpose                   0\n",
              "dti                       0\n",
              "earliest_cr_line          0\n",
              "open_acc                  0\n",
              "pub_rec                   0\n",
              "revol_bal                 0\n",
              "revol_util              276\n",
              "total_acc                 0\n",
              "initial_list_status       0\n",
              "application_type          0\n",
              "mort_acc                  0\n",
              "pub_rec_bankruptcies    535\n",
              "address                   0\n",
              "loan_repaid               0\n",
              "dtype: int64"
            ]
          },
          "metadata": {},
          "execution_count": 58
        }
      ]
    },
    {
      "cell_type": "markdown",
      "metadata": {
        "id": "kAAGAwKxER2y"
      },
      "source": [
        "**revol_util et pub_rec_bankruptcies ont des points de données manquants, mais ils représentent moins de 0,5% du total des données.on va supprimer les lignes qui présentent des données manquantes pour ces valeurs dans ces colonnes avec la méthode dropna().**"
      ]
    },
    {
      "cell_type": "code",
      "metadata": {
        "id": "UnWQWtEIEoe_"
      },
      "source": [
        "df = df.dropna()"
      ],
      "execution_count": 59,
      "outputs": []
    },
    {
      "cell_type": "code",
      "metadata": {
        "id": "9uoyzRwFEqHx",
        "colab": {
          "base_uri": "https://localhost:8080/"
        },
        "outputId": "ef9b0e65-7c53-4ced-9ac0-376d1a633faa"
      },
      "source": [
        "df.isnull().sum()"
      ],
      "execution_count": 60,
      "outputs": [
        {
          "output_type": "execute_result",
          "data": {
            "text/plain": [
              "loan_amnt               0\n",
              "term                    0\n",
              "int_rate                0\n",
              "installment             0\n",
              "grade                   0\n",
              "sub_grade               0\n",
              "home_ownership          0\n",
              "annual_inc              0\n",
              "verification_status     0\n",
              "issue_d                 0\n",
              "loan_status             0\n",
              "purpose                 0\n",
              "dti                     0\n",
              "earliest_cr_line        0\n",
              "open_acc                0\n",
              "pub_rec                 0\n",
              "revol_bal               0\n",
              "revol_util              0\n",
              "total_acc               0\n",
              "initial_list_status     0\n",
              "application_type        0\n",
              "mort_acc                0\n",
              "pub_rec_bankruptcies    0\n",
              "address                 0\n",
              "loan_repaid             0\n",
              "dtype: int64"
            ]
          },
          "metadata": {},
          "execution_count": 60
        }
      ]
    },
    {
      "cell_type": "markdown",
      "metadata": {
        "id": "D59j1wcnExcH"
      },
      "source": [
        "## Variables catégorielles et Variables Dummies\n",
        "\n",
        "**Nous avons fini de travailler avec les données manquantes ! Il ne nous reste plus qu'à traiter les valeurs des chaînes de caractères des colonnes catégorielles.**"
      ]
    },
    {
      "cell_type": "code",
      "metadata": {
        "id": "2u_gsujEGN6r",
        "colab": {
          "base_uri": "https://localhost:8080/"
        },
        "outputId": "76583dd6-52cc-413a-8393-65aa64216192"
      },
      "source": [
        "df.select_dtypes(['object']).columns"
      ],
      "execution_count": 61,
      "outputs": [
        {
          "output_type": "execute_result",
          "data": {
            "text/plain": [
              "Index(['term', 'grade', 'sub_grade', 'home_ownership', 'verification_status',\n",
              "       'issue_d', 'loan_status', 'purpose', 'earliest_cr_line',\n",
              "       'initial_list_status', 'application_type', 'address'],\n",
              "      dtype='object')"
            ]
          },
          "metadata": {},
          "execution_count": 61
        }
      ]
    },
    {
      "cell_type": "markdown",
      "metadata": {
        "id": "90p_2X2lGZD3"
      },
      "source": [
        "---\n",
        "**Voyons maintenant toutes les features de chaînes de caractères pour voir ce que nous devrions en faire.**\n",
        "\n",
        "---"
      ]
    },
    {
      "cell_type": "markdown",
      "metadata": {
        "id": "PHrZLK8DGhim"
      },
      "source": [
        "### Feature term"
      ]
    },
    {
      "cell_type": "markdown",
      "metadata": {
        "id": "8IBJ5hpjGrDP"
      },
      "source": [
        "**Convertir la feature term en un type de données numériques avec la valeur 36 ou 60 en utilisant .apply() ou .map().**"
      ]
    },
    {
      "cell_type": "code",
      "metadata": {
        "id": "Rk4jlVGMG4FU",
        "colab": {
          "base_uri": "https://localhost:8080/"
        },
        "outputId": "efeb2f7e-902b-412a-9b3f-539477e18455"
      },
      "source": [
        "df['term'].value_counts()"
      ],
      "execution_count": 62,
      "outputs": [
        {
          "output_type": "execute_result",
          "data": {
            "text/plain": [
              " 36 months    301247\n",
              " 60 months     93972\n",
              "Name: term, dtype: int64"
            ]
          },
          "metadata": {},
          "execution_count": 62
        }
      ]
    },
    {
      "cell_type": "code",
      "metadata": {
        "id": "E7SeokTxG4TC"
      },
      "source": [
        "# Ou en utilisant simplement .map()\n",
        "df['term'] = df['term'].apply(lambda term : int(term[:3]))"
      ],
      "execution_count": 63,
      "outputs": []
    },
    {
      "cell_type": "code",
      "metadata": {
        "colab": {
          "base_uri": "https://localhost:8080/"
        },
        "id": "H6oTqY53lcNy",
        "outputId": "2231d12b-12f6-4ab7-d2d7-ff6697e8184f"
      },
      "source": [
        "df['term'].value_counts()"
      ],
      "execution_count": 66,
      "outputs": [
        {
          "output_type": "execute_result",
          "data": {
            "text/plain": [
              "36    301247\n",
              "60     93972\n",
              "Name: term, dtype: int64"
            ]
          },
          "metadata": {},
          "execution_count": 66
        }
      ]
    },
    {
      "cell_type": "markdown",
      "metadata": {
        "id": "BzfUdBVIHFm6"
      },
      "source": [
        "### Feature grade"
      ]
    },
    {
      "cell_type": "markdown",
      "metadata": {
        "id": "uHmF_54VHJaf"
      },
      "source": [
        "**Nous savons déjà que la notation (grade) fait partie de sub_grade, donc supprimons la feature grade.**"
      ]
    },
    {
      "cell_type": "code",
      "metadata": {
        "id": "Tegqp3lUHYmj"
      },
      "source": [
        "df = df.drop('grade',axis=1)"
      ],
      "execution_count": 71,
      "outputs": []
    },
    {
      "cell_type": "markdown",
      "metadata": {
        "id": "nibzq-5DHcem"
      },
      "source": [
        "**on va Convertir subgrade en variables dummies. Ensuite, concaténer ces nouvelles colonnes au DataFrame d'origine.**"
      ]
    },
    {
      "cell_type": "code",
      "metadata": {
        "id": "7Ih6LOB6HoKh"
      },
      "source": [
        "subgrade_dummies = pd.get_dummies(df['sub_grade'],drop_first=True)"
      ],
      "execution_count": 75,
      "outputs": []
    },
    {
      "cell_type": "code",
      "metadata": {
        "id": "h7AXuNh6HoYE"
      },
      "source": [
        "df = pd.concat([df.drop('sub_grade',axis=1),subgrade_dummies],axis=1)"
      ],
      "execution_count": 78,
      "outputs": []
    },
    {
      "cell_type": "code",
      "metadata": {
        "id": "supZYx7cHqDK",
        "colab": {
          "base_uri": "https://localhost:8080/"
        },
        "outputId": "c41cd617-6ba0-40e5-f6b8-7f8806cdb48b"
      },
      "source": [
        "df.columns"
      ],
      "execution_count": 79,
      "outputs": [
        {
          "output_type": "execute_result",
          "data": {
            "text/plain": [
              "Index(['loan_amnt', 'term', 'int_rate', 'installment', 'home_ownership',\n",
              "       'annual_inc', 'verification_status', 'issue_d', 'loan_status',\n",
              "       'purpose', 'dti', 'earliest_cr_line', 'open_acc', 'pub_rec',\n",
              "       'revol_bal', 'revol_util', 'total_acc', 'initial_list_status',\n",
              "       'application_type', 'mort_acc', 'pub_rec_bankruptcies', 'address',\n",
              "       'loan_repaid', 'A2', 'A3', 'A4', 'A5', 'B1', 'B2', 'B3', 'B4', 'B5',\n",
              "       'C1', 'C2', 'C3', 'C4', 'C5', 'D1', 'D2', 'D3', 'D4', 'D5', 'E1', 'E2',\n",
              "       'E3', 'E4', 'E5', 'F1', 'F2', 'F3', 'F4', 'F5', 'G1', 'G2', 'G3', 'G4',\n",
              "       'G5'],\n",
              "      dtype='object')"
            ]
          },
          "metadata": {},
          "execution_count": 79
        }
      ]
    },
    {
      "cell_type": "code",
      "metadata": {
        "id": "5I26RBN8Hrmc",
        "colab": {
          "base_uri": "https://localhost:8080/"
        },
        "outputId": "470ee923-10a0-4b0a-e66b-8ef40ff5fa1c"
      },
      "source": [
        "df.select_dtypes(['object']).columns"
      ],
      "execution_count": 85,
      "outputs": [
        {
          "output_type": "execute_result",
          "data": {
            "text/plain": [
              "Index(['issue_d', 'loan_status', 'earliest_cr_line', 'address'], dtype='object')"
            ]
          },
          "metadata": {},
          "execution_count": 85
        }
      ]
    },
    {
      "cell_type": "markdown",
      "metadata": {
        "id": "le9x0Mk3HxKJ"
      },
      "source": [
        "### Features verification_status, application_type, initial_list_status, purpose "
      ]
    },
    {
      "cell_type": "markdown",
      "metadata": {
        "id": "rYklRcF8H3BN"
      },
      "source": [
        "**Convertir ces colonnes : ['verification_status', 'application_type', 'initial_list_status', 'purpose'] en variables dummies et concaténer-les avec le DataFrame d'origine.**"
      ]
    },
    {
      "cell_type": "code",
      "metadata": {
        "id": "omSU6NxmH_C5"
      },
      "source": [
        "dummies = pd.get_dummies(df[['verification_status', 'application_type','initial_list_status','purpose']],drop_first=True)\n",
        "df = df.drop(['verification_status', 'application_type','initial_list_status','purpose'],axis=1)\n",
        "df = pd.concat([df,dummies],axis=1)"
      ],
      "execution_count": 81,
      "outputs": []
    },
    {
      "cell_type": "markdown",
      "metadata": {
        "id": "070TgrbAIBzB"
      },
      "source": [
        "### Feature home_ownership"
      ]
    },
    {
      "cell_type": "markdown",
      "metadata": {
        "id": "KImY0vLeIFu5"
      },
      "source": [
        "**Examiner les valeurs de la colonne home_ownership.**"
      ]
    },
    {
      "cell_type": "code",
      "metadata": {
        "id": "vcibgfBrIMHC",
        "colab": {
          "base_uri": "https://localhost:8080/"
        },
        "outputId": "20620c74-c10e-4034-d52b-256ce1dc5b55"
      },
      "source": [
        "df['home_ownership'].value_counts()"
      ],
      "execution_count": 82,
      "outputs": [
        {
          "output_type": "execute_result",
          "data": {
            "text/plain": [
              "MORTGAGE    198022\n",
              "RENT        159395\n",
              "OWN          37660\n",
              "OTHER          110\n",
              "NONE            29\n",
              "ANY              3\n",
              "Name: home_ownership, dtype: int64"
            ]
          },
          "metadata": {},
          "execution_count": 82
        }
      ]
    },
    {
      "cell_type": "markdown",
      "metadata": {
        "id": "hvWpGATcIPFt"
      },
      "source": [
        "**Convertir ces variables en variables dummies, mais remplacer [(replace)] NONE et ANY par OTHER, de sorte que nous nous retrouvons avec seulement 4 catégories, MORTGAGE, RENT, OWN et OTHER. Ensuite, on les concatène avec le DataFrame d'origine.**"
      ]
    },
    {
      "cell_type": "code",
      "metadata": {
        "id": "N08Iua75IhXO"
      },
      "source": [
        "df['home_ownership']=df['home_ownership'].replace(['NONE', 'ANY'], 'OTHER')\n",
        "\n",
        "dummies = pd.get_dummies(df['home_ownership'],drop_first=True)\n",
        "df = df.drop('home_ownership',axis=1)\n",
        "df = pd.concat([df,dummies],axis=1)"
      ],
      "execution_count": 83,
      "outputs": []
    },
    {
      "cell_type": "markdown",
      "metadata": {
        "id": "8wN9wiOUIjm5"
      },
      "source": [
        "### Feature address"
      ]
    },
    {
      "cell_type": "markdown",
      "metadata": {
        "id": "x279kNjSInXH"
      },
      "source": [
        "**Concevons avec du feature engineering une colonne de code postal à partir de l'adresse de l'ensemble de données. Créant une colonne appelée 'zip_code' qui extrait le code postal de la colonne address.**"
      ]
    },
    {
      "cell_type": "code",
      "metadata": {
        "id": "MkPnQTTHI2xS"
      },
      "source": [
        "df['zip_code'] = df['address'].apply(lambda address:address[-5:])"
      ],
      "execution_count": 90,
      "outputs": []
    },
    {
      "cell_type": "markdown",
      "metadata": {
        "id": "HiItGTedI5id"
      },
      "source": [
        "**Maintenant, transformer cette colonne zip_code en variables dummies en utilisant Pandas. Concaténer le résultat et éliminer la colonne zip_code d'origine en même temps que la colonne address.**"
      ]
    },
    {
      "cell_type": "code",
      "metadata": {
        "id": "tNBJLU5xJE5K"
      },
      "source": [
        "dummies = pd.get_dummies(df['zip_code'],drop_first=True)\n",
        "df = df.drop(['zip_code','address'],axis=1)\n",
        "df = pd.concat([df,dummies],axis=1)"
      ],
      "execution_count": 91,
      "outputs": []
    },
    {
      "cell_type": "markdown",
      "metadata": {
        "id": "b7VkAQI3JG-T"
      },
      "source": [
        "### Feature issue_d "
      ]
    },
    {
      "cell_type": "markdown",
      "metadata": {
        "id": "zL6Nov-SJLiG"
      },
      "source": [
        "**Il s'agirait de fuite de données, nous ne saurions pas à l'avance si un prêt sera émis ou non en utilisant notre modèle, donc en théorie nous n'aurions pas de date d'émission, éliminez cette feature.**"
      ]
    },
    {
      "cell_type": "code",
      "metadata": {
        "id": "q--LcNXlJUsH"
      },
      "source": [
        "df = df.drop('issue_d',axis=1)"
      ],
      "execution_count": 93,
      "outputs": []
    },
    {
      "cell_type": "markdown",
      "metadata": {
        "id": "0P6De1PNJXaB"
      },
      "source": [
        "### Feature earliest_cr_line"
      ]
    },
    {
      "cell_type": "markdown",
      "metadata": {
        "id": "8P2WBLBZJcjE"
      },
      "source": [
        "**Il semble s'agir d'une feature de time stamp historique.On peut extraire l'année de cette feature à l'aide d'une fonction .apply, puis convertisser-la en une feature numérique.**."
      ]
    },
    {
      "cell_type": "code",
      "metadata": {
        "id": "h8layYFZJ4_9"
      },
      "source": [
        "df['earliest_cr_year'] = df['earliest_cr_line'].apply(lambda date:int(date[-4:]))\n",
        "df = df.drop('earliest_cr_line',axis=1)"
      ],
      "execution_count": 94,
      "outputs": []
    },
    {
      "cell_type": "code",
      "metadata": {
        "id": "0HeJ3HoeJ5P0",
        "colab": {
          "base_uri": "https://localhost:8080/"
        },
        "outputId": "4f0b668a-b98d-4595-f87e-b947fc24b818"
      },
      "source": [
        "df.select_dtypes(['object']).columns"
      ],
      "execution_count": 95,
      "outputs": [
        {
          "output_type": "execute_result",
          "data": {
            "text/plain": [
              "Index(['loan_status'], dtype='object')"
            ]
          },
          "metadata": {},
          "execution_count": 95
        }
      ]
    },
    {
      "cell_type": "markdown",
      "metadata": {
        "id": "X98aTs_cKEEX"
      },
      "source": [
        "## Répartition Entraînement / Test"
      ]
    },
    {
      "cell_type": "markdown",
      "metadata": {
        "id": "cuWNK0FkKK-6"
      },
      "source": [
        "**Importer train_test_split depuis sklearn.**"
      ]
    },
    {
      "cell_type": "code",
      "metadata": {
        "id": "L7mwcvYaJ6mm"
      },
      "source": [
        "from sklearn.model_selection import train_test_split"
      ],
      "execution_count": 96,
      "outputs": []
    },
    {
      "cell_type": "markdown",
      "metadata": {
        "id": "eOo24OaqKSB-"
      },
      "source": [
        "**Supprimer la colonne loan_status que nous avons créée précédemment, car c'est un doublon de la colonne loan_repaid. Nous utiliserons la colonne loan_repaid, puisqu'elle contient déjà des 0 et et des 1.**"
      ]
    },
    {
      "cell_type": "code",
      "metadata": {
        "id": "6dcJFfJsKmKL"
      },
      "source": [
        "df = df.drop('loan_status',axis=1)"
      ],
      "execution_count": 97,
      "outputs": []
    },
    {
      "cell_type": "markdown",
      "metadata": {
        "id": "GbMhd3rXK_4o"
      },
      "source": [
        "**Fixer les variables X et y aux valeurs des features et label.**"
      ]
    },
    {
      "cell_type": "code",
      "metadata": {
        "id": "Xl11kWKtKrTE"
      },
      "source": [
        "X = df.drop('loan_repaid',axis=1).values\n",
        "y = df['loan_repaid'].values"
      ],
      "execution_count": 98,
      "outputs": []
    },
    {
      "cell_type": "markdown",
      "metadata": {
        "id": "Rqpp55xwunNa"
      },
      "source": [
        "**Effectuer une repartition train/test avec test_size=0.2 et un random_state de 101**"
      ]
    },
    {
      "cell_type": "code",
      "metadata": {
        "id": "nJ20naxDvZsQ"
      },
      "source": [
        "X_train, X_test, y_train, y_test = train_test_split(X, y, test_size=0.20, random_state=101)"
      ],
      "execution_count": 99,
      "outputs": []
    },
    {
      "cell_type": "markdown",
      "metadata": {
        "id": "pgGPU-A4LstI"
      },
      "source": [
        "## Normalisation des données"
      ]
    },
    {
      "cell_type": "markdown",
      "metadata": {
        "id": "a6u6nAlXLwna"
      },
      "source": [
        "**Utilisant une mise à l'échelle MinMaxScaler pour normaliser les données de features X_train et X_test.**"
      ]
    },
    {
      "cell_type": "code",
      "metadata": {
        "id": "diCceT-1L-Zl"
      },
      "source": [
        "from sklearn.preprocessing import MinMaxScaler"
      ],
      "execution_count": 100,
      "outputs": []
    },
    {
      "cell_type": "code",
      "metadata": {
        "id": "WZWCghiRL-km"
      },
      "source": [
        "scaler = MinMaxScaler()"
      ],
      "execution_count": 101,
      "outputs": []
    },
    {
      "cell_type": "code",
      "metadata": {
        "id": "a-EUJtvPMABo"
      },
      "source": [
        "X_train = scaler.fit_transform(X_train)"
      ],
      "execution_count": 102,
      "outputs": []
    },
    {
      "cell_type": "code",
      "metadata": {
        "id": "bwR0CnixMBNb"
      },
      "source": [
        "X_test = scaler.transform(X_test)"
      ],
      "execution_count": 103,
      "outputs": []
    },
    {
      "cell_type": "markdown",
      "metadata": {
        "id": "RAW944EKME5v"
      },
      "source": [
        "## Création du Modèle"
      ]
    },
    {
      "cell_type": "code",
      "metadata": {
        "id": "78KJJ3P5MCgC"
      },
      "source": [
        "import tensorflow as tf\n",
        "from tensorflow.keras.models import Sequential\n",
        "from tensorflow.keras.layers import Dense, Dropout"
      ],
      "execution_count": 104,
      "outputs": []
    },
    {
      "cell_type": "markdown",
      "metadata": {
        "id": "MPKcoQ1nMUYF"
      },
      "source": [
        "**Construire un modèle séquentiel qui sera entraîné sur les données.**"
      ]
    },
    {
      "cell_type": "code",
      "metadata": {
        "id": "JaUhmcbpM3P8"
      },
      "source": [
        "model = Sequential()\n",
        "\n",
        "\n",
        "# input layer\n",
        "model.add(Dense(78,  activation='relu'))\n",
        "model.add(Dropout(0.2))\n",
        "\n",
        "# hidden layer\n",
        "model.add(Dense(39, activation='relu'))\n",
        "model.add(Dropout(0.2))\n",
        "\n",
        "# hidden layer\n",
        "model.add(Dense(19, activation='relu'))\n",
        "model.add(Dropout(0.2))\n",
        "\n",
        "# output layer\n",
        "model.add(Dense(units=1,activation='sigmoid'))\n",
        "\n",
        "# Compilation du modèle\n",
        "model.compile(loss='binary_crossentropy', optimizer='adam')"
      ],
      "execution_count": 105,
      "outputs": []
    },
    {
      "cell_type": "markdown",
      "metadata": {
        "id": "ndET93MUNTBt"
      },
      "source": [
        "**Adapter le modèle aux données d'entraînement pour au moins 25 Epochs. Ajouter également les données de validation pour le traçage ultérieur.**"
      ]
    },
    {
      "cell_type": "code",
      "metadata": {
        "id": "LA5wDFU7Nai7",
        "colab": {
          "base_uri": "https://localhost:8080/"
        },
        "outputId": "81eb8ddd-cd1b-4382-ad7c-08dd7e95639f"
      },
      "source": [
        "model.fit(x=X_train, \n",
        "          y=y_train, \n",
        "          epochs=25,\n",
        "          batch_size=256,\n",
        "          validation_data=(X_test, y_test), \n",
        "          )"
      ],
      "execution_count": 106,
      "outputs": [
        {
          "output_type": "stream",
          "name": "stdout",
          "text": [
            "Epoch 1/25\n",
            "1236/1236 [==============================] - 6s 4ms/step - loss: 0.3004 - val_loss: 0.2649\n",
            "Epoch 2/25\n",
            "1236/1236 [==============================] - 5s 4ms/step - loss: 0.2652 - val_loss: 0.2629\n",
            "Epoch 3/25\n",
            "1236/1236 [==============================] - 5s 4ms/step - loss: 0.2631 - val_loss: 0.2626\n",
            "Epoch 4/25\n",
            "1236/1236 [==============================] - 5s 4ms/step - loss: 0.2617 - val_loss: 0.2622\n",
            "Epoch 5/25\n",
            "1236/1236 [==============================] - 5s 4ms/step - loss: 0.2610 - val_loss: 0.2631\n",
            "Epoch 6/25\n",
            "1236/1236 [==============================] - 5s 4ms/step - loss: 0.2605 - val_loss: 0.2618\n",
            "Epoch 7/25\n",
            "1236/1236 [==============================] - 5s 4ms/step - loss: 0.2601 - val_loss: 0.2615\n",
            "Epoch 8/25\n",
            "1236/1236 [==============================] - 5s 4ms/step - loss: 0.2597 - val_loss: 0.2617\n",
            "Epoch 9/25\n",
            "1236/1236 [==============================] - 5s 4ms/step - loss: 0.2593 - val_loss: 0.2628\n",
            "Epoch 10/25\n",
            "1236/1236 [==============================] - 5s 4ms/step - loss: 0.2590 - val_loss: 0.2617\n",
            "Epoch 11/25\n",
            "1236/1236 [==============================] - 5s 4ms/step - loss: 0.2589 - val_loss: 0.2610\n",
            "Epoch 12/25\n",
            "1236/1236 [==============================] - 5s 4ms/step - loss: 0.2586 - val_loss: 0.2624\n",
            "Epoch 13/25\n",
            "1236/1236 [==============================] - 5s 4ms/step - loss: 0.2585 - val_loss: 0.2609\n",
            "Epoch 14/25\n",
            "1236/1236 [==============================] - 5s 4ms/step - loss: 0.2581 - val_loss: 0.2610\n",
            "Epoch 15/25\n",
            "1236/1236 [==============================] - 5s 4ms/step - loss: 0.2580 - val_loss: 0.2610\n",
            "Epoch 16/25\n",
            "1236/1236 [==============================] - 5s 4ms/step - loss: 0.2580 - val_loss: 0.2609\n",
            "Epoch 17/25\n",
            "1236/1236 [==============================] - 5s 4ms/step - loss: 0.2575 - val_loss: 0.2615\n",
            "Epoch 18/25\n",
            "1236/1236 [==============================] - 5s 4ms/step - loss: 0.2576 - val_loss: 0.2611\n",
            "Epoch 19/25\n",
            "1236/1236 [==============================] - 5s 4ms/step - loss: 0.2573 - val_loss: 0.2607\n",
            "Epoch 20/25\n",
            "1236/1236 [==============================] - 5s 4ms/step - loss: 0.2573 - val_loss: 0.2608\n",
            "Epoch 21/25\n",
            "1236/1236 [==============================] - 5s 4ms/step - loss: 0.2568 - val_loss: 0.2607\n",
            "Epoch 22/25\n",
            "1236/1236 [==============================] - 5s 4ms/step - loss: 0.2567 - val_loss: 0.2610\n",
            "Epoch 23/25\n",
            "1236/1236 [==============================] - 5s 4ms/step - loss: 0.2567 - val_loss: 0.2610\n",
            "Epoch 24/25\n",
            "1236/1236 [==============================] - 5s 4ms/step - loss: 0.2566 - val_loss: 0.2612\n",
            "Epoch 25/25\n",
            "1236/1236 [==============================] - 5s 4ms/step - loss: 0.2565 - val_loss: 0.2611\n"
          ]
        },
        {
          "output_type": "execute_result",
          "data": {
            "text/plain": [
              "<keras.callbacks.History at 0x7f862a2b3990>"
            ]
          },
          "metadata": {},
          "execution_count": 106
        }
      ]
    },
    {
      "cell_type": "markdown",
      "metadata": {
        "id": "l6f7GnOLNd73"
      },
      "source": [
        "**Sauvegardez le modèle.**"
      ]
    },
    {
      "cell_type": "code",
      "metadata": {
        "id": "XfOkOew9NiNj"
      },
      "source": [
        "from tensorflow.keras.models import load_model"
      ],
      "execution_count": 107,
      "outputs": []
    },
    {
      "cell_type": "code",
      "metadata": {
        "id": "0ERo1deVNifL",
        "colab": {
          "base_uri": "https://localhost:8080/"
        },
        "outputId": "94395c4a-7ae9-419c-f19f-086ee2d3cbac"
      },
      "source": [
        "model.save('modele_des_prets')  "
      ],
      "execution_count": 108,
      "outputs": [
        {
          "output_type": "stream",
          "name": "stdout",
          "text": [
            "INFO:tensorflow:Assets written to: modele_des_prets/assets\n"
          ]
        }
      ]
    },
    {
      "cell_type": "markdown",
      "metadata": {
        "id": "1oeJw3aLOc7M"
      },
      "source": [
        "# Section 3 : Évaluation de la performance du modèle"
      ]
    },
    {
      "cell_type": "markdown",
      "metadata": {
        "id": "nCuCk0LBOhRz"
      },
      "source": [
        "**Déterminer la perte sur la validation par rapport à la perte sur l'entraînement.**"
      ]
    },
    {
      "cell_type": "code",
      "metadata": {
        "id": "SXbsiZnSOqk5"
      },
      "source": [
        "losses = pd.DataFrame(model.history.history)"
      ],
      "execution_count": 109,
      "outputs": []
    },
    {
      "cell_type": "code",
      "metadata": {
        "id": "civdW1uDOq9J",
        "colab": {
          "base_uri": "https://localhost:8080/",
          "height": 265
        },
        "outputId": "5286cae1-122d-4317-aacb-789e7ac9f047"
      },
      "source": [
        "losses[['loss','val_loss']].plot();"
      ],
      "execution_count": 110,
      "outputs": [
        {
          "output_type": "display_data",
          "data": {
            "image/png": "[encoded data removed]",
            "text/plain": [
              "<Figure size 432x288 with 1 Axes>"
            ]
          },
          "metadata": {
            "needs_background": "light"
          }
        }
      ]
    },
    {
      "cell_type": "markdown",
      "metadata": {
        "id": "0drpBbUXOvgY"
      },
      "source": [
        "**Créer des prédictions à partir de l'ensemble X_test et afficher un rapport de classification et une matrice de confusion pour l'ensemble X_test.**"
      ]
    },
    {
      "cell_type": "code",
      "metadata": {
        "id": "WqMZYbZ1Oza7"
      },
      "source": [
        "from sklearn.metrics import classification_report,confusion_matrix"
      ],
      "execution_count": 111,
      "outputs": []
    },
    {
      "cell_type": "code",
      "metadata": {
        "id": "ULv0ZAY3Ozpz"
      },
      "source": [
        "predictions = (model.predict(X_test) > 0.5).astype('int32')"
      ],
      "execution_count": 112,
      "outputs": []
    },
    {
      "cell_type": "code",
      "metadata": {
        "id": "vBJyr6X_O1TO",
        "colab": {
          "base_uri": "https://localhost:8080/"
        },
        "outputId": "577ec51d-0b35-4728-a49c-566706b33f32"
      },
      "source": [
        "print(classification_report(y_test,predictions))"
      ],
      "execution_count": 113,
      "outputs": [
        {
          "output_type": "stream",
          "name": "stdout",
          "text": [
            "              precision    recall  f1-score   support\n",
            "\n",
            "           0       0.98      0.44      0.61     15658\n",
            "           1       0.88      1.00      0.93     63386\n",
            "\n",
            "    accuracy                           0.89     79044\n",
            "   macro avg       0.93      0.72      0.77     79044\n",
            "weighted avg       0.90      0.89      0.87     79044\n",
            "\n"
          ]
        }
      ]
    },
    {
      "cell_type": "code",
      "metadata": {
        "id": "twQgoUyiO2xD",
        "colab": {
          "base_uri": "https://localhost:8080/"
        },
        "outputId": "8e7a1988-00cb-4ddf-a6ef-ebc429563863"
      },
      "source": [
        "confusion_matrix(y_test,predictions)"
      ],
      "execution_count": 114,
      "outputs": [
        {
          "output_type": "execute_result",
          "data": {
            "text/plain": [
              "array([[ 6899,  8759],\n",
              "       [  139, 63247]])"
            ]
          },
          "metadata": {},
          "execution_count": 114
        }
      ]
    },
    {
      "cell_type": "markdown",
      "metadata": {
        "id": "ya4aXabRz9dp"
      },
      "source": [
        "**tester avec un random customer**"
      ]
    },
    {
      "cell_type": "code",
      "metadata": {
        "id": "XLvJgOunO4sb",
        "colab": {
          "base_uri": "https://localhost:8080/"
        },
        "outputId": "45f0c4c4-d662-4a9e-c506-b896772e720d"
      },
      "source": [
        "import random\n",
        "random.seed(101)\n",
        "random_ind = random.randint(0,len(df))\n",
        "\n",
        "new_customer = df.drop('loan_repaid',axis=1).iloc[random_ind]\n",
        "new_customer"
      ],
      "execution_count": 115,
      "outputs": [
        {
          "output_type": "execute_result",
          "data": {
            "text/plain": [
              "loan_amnt           25000.00\n",
              "term                   60.00\n",
              "int_rate               18.24\n",
              "installment           638.11\n",
              "annual_inc          61665.00\n",
              "                      ...   \n",
              "48052                   0.00\n",
              "70466                   0.00\n",
              "86630                   0.00\n",
              "93700                   0.00\n",
              "earliest_cr_year     1996.00\n",
              "Name: 305323, Length: 78, dtype: float64"
            ]
          },
          "metadata": {},
          "execution_count": 115
        }
      ]
    },
    {
      "cell_type": "code",
      "metadata": {
        "id": "YZN2PdH3AnMC"
      },
      "source": [
        "new_customer = scaler.transform(new_customer.values.reshape(1,78))"
      ],
      "execution_count": 116,
      "outputs": []
    },
    {
      "cell_type": "code",
      "metadata": {
        "id": "OTzhqB2TPCVx",
        "colab": {
          "base_uri": "https://localhost:8080/"
        },
        "outputId": "2c3b1adf-3ccb-408b-c41a-eb5c6851d041"
      },
      "source": [
        "(model.predict(new_customer) > 0.5).astype('int32')"
      ],
      "execution_count": 117,
      "outputs": [
        {
          "output_type": "execute_result",
          "data": {
            "text/plain": [
              "array([[1]], dtype=int32)"
            ]
          },
          "metadata": {},
          "execution_count": 117
        }
      ]
    },
    {
      "cell_type": "markdown",
      "metadata": {
        "id": "2vhil0iEPFa2"
      },
      "source": [
        "**On va vérifier si cette personne a vraiment fini par rembourser son prêt ?**"
      ]
    },
    {
      "cell_type": "code",
      "metadata": {
        "id": "FqEmAFyBPMip",
        "colab": {
          "base_uri": "https://localhost:8080/"
        },
        "outputId": "0c540ade-de92-4991-cadd-a576d314a124"
      },
      "source": [
        "df.iloc[random_ind]['loan_repaid']"
      ],
      "execution_count": 118,
      "outputs": [
        {
          "output_type": "execute_result",
          "data": {
            "text/plain": [
              "1.0"
            ]
          },
          "metadata": {},
          "execution_count": 118
        }
      ]
    },
    {
      "cell_type": "markdown",
      "metadata": {
        "id": "U-KUR2e8PQyz"
      },
      "source": [
        "**1 montre que le modele marche pour ce cas la on peut verifier avec plusieur d'autre cas**"
      ]
    }
  ]
}